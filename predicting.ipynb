{
 "cells": [
  {
   "cell_type": "markdown",
   "metadata": {},
   "source": [
    "# imports"
   ]
  },
  {
   "cell_type": "code",
   "execution_count": 1,
   "metadata": {
    "ExecuteTime": {
     "end_time": "2018-08-16T15:13:21.394597Z",
     "start_time": "2018-08-16T15:13:16.857463Z"
    }
   },
   "outputs": [],
   "source": [
    "from sklearn.metrics import mean_squared_error\n",
    "from sklearn.preprocessing import MinMaxScaler\n",
    "from statsmodels.tsa import holtwinters, arima_model\n",
    "from pandas.tseries.offsets import *\n",
    "from tensorflow.python.keras import Sequential\n",
    "from tensorflow.python.keras.layers import Dense, LSTM, GRU, Dropout, Embedding\n",
    "from pyramid.arima import ARIMA, auto_arima\n",
    "from math import sqrt\n",
    "from matplotlib import pyplot\n",
    "import numpy\n",
    "import math"
   ]
  },
  {
   "cell_type": "code",
   "execution_count": 2,
   "metadata": {
    "ExecuteTime": {
     "end_time": "2018-08-16T15:13:30.901128Z",
     "start_time": "2018-08-16T15:13:21.418509Z"
    }
   },
   "outputs": [
    {
     "name": "stdout",
     "output_type": "stream",
     "text": [
      "/home/sebastian/Programming/Bachelorthesis\n"
     ]
    }
   ],
   "source": [
    "import glob\n",
    "import math\n",
    "import os\n",
    "\n",
    "import matplotlib.pyplot as plt\n",
    "import numpy as np\n",
    "import pandas as pd\n",
    "from fbprophet import Prophet\n",
    "from sklearn import neighbors, ensemble, tree, metrics\n",
    "from statsmodels.graphics import tsaplots\n",
    "from statsmodels.tsa.arima_model import ARIMA\n",
    "from statsmodels.tsa.holtwinters import ExponentialSmoothing\n",
    "from statsmodels.tsa.seasonal import *\n",
    "import calendar\n",
    "\n",
    "%matplotlib notebook\n",
    "\n",
    "package_dir = os.getcwd()\n",
    "\n",
    "print(package_dir)\n",
    "\n",
    "df = pd.DataFrame()\n",
    "\n",
    "for file in glob.glob('res/*2013_timeseries.csv'):\n",
    "    # read single file, index on StationEoI and DatetimeEnd\n",
    "    read = pd.read_csv(file,\n",
    "                 encoding=\"utf-16\", parse_dates=[13, 14],\n",
    "                 infer_datetime_format=True,\n",
    "                 index_col=[14])\n",
    "    # drop 'bulk' files because they have different averaging\n",
    "    bulks = read.SamplingPoint.str.lower().str.contains('bulk')\n",
    "    clean = read[~bulks].copy()\n",
    "    \n",
    "    # ignore unnecessary columns\n",
    "    clean.drop(columns=['Countrycode', 'Namespace', 'AirQualityNetwork',\n",
    "                 'AirQualityStation', 'SamplingPoint', 'Sample',\n",
    "                 'SamplingProcess', 'AirPollutantCode',\n",
    "                 'DatetimeBegin', 'Validity', 'Verification',\n",
    "                 'AveragingTime'],\n",
    "        inplace=True)\n",
    "    \n",
    "    \n",
    "    df = pd.concat([df, clean])\n",
    "\n",
    "# make pollutant a column for better memory usage\n",
    "df = df.pivot_table(columns='AirPollutant',\n",
    "                   index=[df.index, 'AirQualityStationEoICode', 'UnitOfMeasurement'],\n",
    "                   values='Concentration').reset_index(level=[1,2])\n",
    "\n",
    "# make names shorter    \n",
    "df.index.names = ['Timestamp']\n",
    "#df.columns.names = [None, 'Pollutant']\n",
    "\n",
    "df = df.sort_index()\n",
    "#df = df.groupby(level=[0]).first()\n",
    "\n",
    "def create_artificial_features(series, frequency='H', steps=7):\n",
    "    nondups = series[~series.index.duplicated()]\n",
    "    lagged = create_lagged_features(nondups, frequency, steps)\n",
    "    \n",
    "    statistics = lagged\n",
    "    statistics['sum'] = lagged.sum(axis=1)\n",
    "    statistics['mean'] = lagged.mean(axis=1)\n",
    "    statistics['median'] = lagged.median(axis=1)\n",
    "    \n",
    "#    weekdays = pd.get_dummies(lagged.index.weekday_name)\n",
    "#    weekdays = weekdays.applymap(lambda x: bool(x))\n",
    "#    weekdays.index = lagged.index\n",
    "    \n",
    "#    months = pd.get_dummies(lagged.index.month.map(lambda x: calendar.month_abbr[x]))\n",
    "#    months = months.applymap(lambda x: bool(x))\n",
    "#    months.index = lagged.index\n",
    "    \n",
    "#    out = statistics.join(weekdays).join(months)\n",
    "    out = statistics\n",
    "    \n",
    "    return out\n",
    "\n",
    "def create_lagged_features(series, frequency='H', steps=7):\n",
    "    lagged = pd.DataFrame()\n",
    "\n",
    "\n",
    "    for i in range(0, steps):\n",
    "        lagged['lag {}{}'.format(i, frequency)] = series.shift(i, freq=frequency)\n",
    "\n",
    "    lagged.index = series.index\n",
    "    lagged = lagged[steps:]\n",
    "\n",
    "    return lagged.interpolate()"
   ]
  },
  {
   "cell_type": "code",
   "execution_count": 3,
   "metadata": {
    "ExecuteTime": {
     "end_time": "2018-08-16T15:13:31.250258Z",
     "start_time": "2018-08-16T15:13:31.239463Z"
    }
   },
   "outputs": [],
   "source": [
    "def difference_series(series, stepsize=1):\n",
    "    diff = list()\n",
    "    for i in range(stepsize, len(series), stepsize):\n",
    "        diff.append(series.iloc[i] - series.iloc[i - stepsize])\n",
    "    out = pd.Series(diff)\n",
    "    out.index = series.index[stepsize::stepsize]\n",
    "    return out\n",
    "\n",
    "def dedifference_series(series, start_level=0, stepsize=1):\n",
    "    dediff = list()\n",
    "    sum = start_level\n",
    "    for i in range(0, len(series), stepsize):\n",
    "        sum += series.iloc[i]\n",
    "        dediff.append(sum)\n",
    "    out = pd.Series(dediff)\n",
    "    out.index = series.index\n",
    "    return out\n",
    "\n",
    "def scale_series(series):\n",
    "    X = series.values\n",
    "    X = X.reshape(len(X), 1)\n",
    "    scaler = MinMaxScaler(feature_range=(-1, 1))\n",
    "    scaler = scaler.fit(X)\n",
    "    scaled_X = scaler.transform(X)\n",
    "    scaled_X = scaled_X.reshape(len(scaled_X))\n",
    "    scaled_series = pd.Series(data=scaled_X, index=series.index)\n",
    "    return scaled_series, scaler"
   ]
  },
  {
   "cell_type": "code",
   "execution_count": 4,
   "metadata": {
    "ExecuteTime": {
     "end_time": "2018-08-16T15:13:31.653917Z",
     "start_time": "2018-08-16T15:13:31.648088Z"
    }
   },
   "outputs": [],
   "source": [
    "def _calc_mae(expected, actual):\n",
    "    mae = 0\n",
    "    for i in range(0, len(expected)):\n",
    "        mae += math.fabs(expected.iloc[i] - actual.iloc[i])\n",
    "    return mae / len(expected)\n",
    "\n",
    "\n",
    "def _calc_mse(expected, actual):\n",
    "    mse = 0\n",
    "    for i in range(0, len(expected)):\n",
    "        mse += (expected.iloc[i] - actual.iloc[i]) ** 2\n",
    "    return mse / len(expected)"
   ]
  },
  {
   "cell_type": "code",
   "execution_count": 5,
   "metadata": {
    "ExecuteTime": {
     "end_time": "2018-08-16T15:13:32.633406Z",
     "start_time": "2018-08-16T15:13:31.942996Z"
    }
   },
   "outputs": [],
   "source": [
    "so2 = df[df.AirQualityStationEoICode == 'DESN025'].SO2.interpolate()\n",
    "so2 = so2[~so2.index.duplicated(keep='last')]\n",
    "diff = difference_series(so2)\n",
    "dediff = dedifference_series(diff, so2.iloc[0])"
   ]
  },
  {
   "cell_type": "markdown",
   "metadata": {
    "ExecuteTime": {
     "end_time": "2018-08-11T10:30:21.185686Z",
     "start_time": "2018-08-11T10:30:21.181190Z"
    }
   },
   "source": [
    "# GRU"
   ]
  },
  {
   "cell_type": "code",
   "execution_count": 6,
   "metadata": {
    "ExecuteTime": {
     "end_time": "2018-08-16T15:13:32.884244Z",
     "start_time": "2018-08-16T15:13:32.873097Z"
    }
   },
   "outputs": [
    {
     "name": "stdout",
     "output_type": "stream",
     "text": [
      "Timestamp\n",
      "2013-01-01 00:00:00    27.458\n",
      "2013-01-01 01:00:00    10.514\n",
      "2013-01-01 02:00:00     5.561\n",
      "2013-01-01 03:00:00     4.948\n",
      "2013-01-01 04:00:00     4.043\n",
      "Name: SO2, dtype: float64\n",
      "Timestamp\n",
      "2013-01-01 01:00:00   -16.944\n",
      "2013-01-01 02:00:00    -4.953\n",
      "2013-01-01 03:00:00    -0.613\n",
      "2013-01-01 04:00:00    -0.905\n",
      "2013-01-01 05:00:00     0.032\n",
      "dtype: float64\n",
      "Timestamp\n",
      "2013-01-01 01:00:00    10.514\n",
      "2013-01-01 02:00:00     5.561\n",
      "2013-01-01 03:00:00     4.948\n",
      "2013-01-01 04:00:00     4.043\n",
      "2013-01-01 05:00:00     4.075\n",
      "dtype: float64\n"
     ]
    }
   ],
   "source": [
    "print(so2.head())\n",
    "print(diff.head())\n",
    "print(dediff.head())"
   ]
  },
  {
   "cell_type": "code",
   "execution_count": 7,
   "metadata": {
    "ExecuteTime": {
     "end_time": "2018-08-16T15:13:33.708671Z",
     "start_time": "2018-08-16T15:13:33.130725Z"
    }
   },
   "outputs": [],
   "source": [
    "scaled, scaler = scale_series(diff)\n",
    "artificial = create_artificial_features(scaled, steps=24)"
   ]
  },
  {
   "cell_type": "code",
   "execution_count": 22,
   "metadata": {
    "ExecuteTime": {
     "end_time": "2018-08-16T18:23:16.667943Z",
     "start_time": "2018-08-16T18:23:16.286330Z"
    }
   },
   "outputs": [],
   "source": [
    "model = Sequential()\n",
    "model.add(GRU(4, input_shape=(27,1)))\n",
    "model.add(Dropout(0.2))\n",
    "model.add(Dense(1))\n",
    "model.compile('rmsprop', loss='mse')"
   ]
  },
  {
   "cell_type": "code",
   "execution_count": 26,
   "metadata": {
    "ExecuteTime": {
     "end_time": "2018-08-16T18:25:12.304827Z",
     "start_time": "2018-08-16T18:25:06.594432Z"
    }
   },
   "outputs": [
    {
     "name": "stdout",
     "output_type": "stream",
     "text": [
      "Epoch 1/10\n",
      "6075/6075 [==============================] - 1s 91us/step - loss: 0.0033\n",
      "Epoch 2/10\n",
      "6075/6075 [==============================] - 1s 99us/step - loss: 0.0033\n",
      "Epoch 3/10\n",
      "6075/6075 [==============================] - 1s 92us/step - loss: 0.0033\n",
      "Epoch 4/10\n",
      "6075/6075 [==============================] - 1s 100us/step - loss: 0.0033\n",
      "Epoch 5/10\n",
      "6075/6075 [==============================] - 1s 92us/step - loss: 0.0033\n",
      "Epoch 6/10\n",
      "6075/6075 [==============================] - 1s 93us/step - loss: 0.0033\n",
      "Epoch 7/10\n",
      "6075/6075 [==============================] - 1s 91us/step - loss: 0.0033\n",
      "Epoch 8/10\n",
      "6075/6075 [==============================] - 1s 97us/step - loss: 0.0033\n",
      "Epoch 9/10\n",
      "6075/6075 [==============================] - 1s 93us/step - loss: 0.0033\n",
      "Epoch 10/10\n",
      "6075/6075 [==============================] - 1s 89us/step - loss: 0.0033\n"
     ]
    }
   ],
   "source": [
    "train_length = 0.7\n",
    "\n",
    "x = artificial.loc[scaled[24:-24].index].values\n",
    "x_tr = x[:int(len(x)*train_length)]\n",
    "x_tr = x_tr.reshape(x_tr.shape[0], x_tr.shape[1], 1)\n",
    "\n",
    "x_te = x[int(len(x)*train_length):]\n",
    "x_te = x_te.reshape(x_te.shape[0], x_te.shape[1], 1)\n",
    "\n",
    "y = scaled[48:].values\n",
    "y_tr = y[:int(len(y)*train_length)]\n",
    "y_tr = y_tr.reshape(y_tr.shape[0], 1)\n",
    "\n",
    "y_te = y[int(len(y)*train_length):]\n",
    "y_te = y_te.reshape(y_te.shape[0], 1)\n",
    "\n",
    "change_point = scaled[48:].index[int(len(y)*train_length)]\n",
    "\n",
    "\n",
    "fit = model.fit(x_tr, y_tr, batch_size=24*7, epochs=10)"
   ]
  },
  {
   "cell_type": "code",
   "execution_count": 27,
   "metadata": {
    "ExecuteTime": {
     "end_time": "2018-08-16T18:25:13.512861Z",
     "start_time": "2018-08-16T18:25:12.647193Z"
    }
   },
   "outputs": [],
   "source": [
    "pred_test = model.predict(x_te)\n",
    "pred_rescaled = scaler.inverse_transform(pred_test)\n",
    "pred_rescaled = pred_rescaled.reshape(len(pred_rescaled))\n",
    "pred_dediff = dedifference_series(pd.Series(pred_rescaled), so2.loc[change_point])\n",
    "\n",
    "pred_train = model.predict(x_tr)\n",
    "pred2_rescaled = scaler.inverse_transform(pred_train)\n",
    "pred2_rescaled = pred2_rescaled.reshape(len(pred2_rescaled))\n",
    "pred2_dediff = dedifference_series(pd.Series(pred2_rescaled), so2.loc[scaled[48:].index[0]])"
   ]
  },
  {
   "cell_type": "code",
   "execution_count": 28,
   "metadata": {
    "ExecuteTime": {
     "end_time": "2018-08-16T18:25:14.761390Z",
     "start_time": "2018-08-16T18:25:13.896272Z"
    }
   },
   "outputs": [
    {
     "name": "stdout",
     "output_type": "stream",
     "text": [
      "Test\n",
      "135.5054960251149\n",
      "24571.47040329607\n",
      "\n",
      "Train\n",
      "317.15745879125814\n",
      "134029.5421089626\n"
     ]
    }
   ],
   "source": [
    "print('Test')\n",
    "print(_calc_mae(pred_dediff, so2[change_point:][:len(pred_dediff)]))\n",
    "print(_calc_mse(pred_dediff, so2[change_point:][:len(pred_dediff)]))\n",
    "print('\\nTrain')\n",
    "print(_calc_mae(pred2_dediff, so2[scaled[48:].index[0]:][:len(pred2_dediff)]))\n",
    "print(_calc_mse(pred2_dediff, so2[scaled[48:].index[0]:][:len(pred2_dediff)]))"
   ]
  },
  {
   "cell_type": "code",
   "execution_count": null,
   "metadata": {},
   "outputs": [],
   "source": []
  },
  {
   "cell_type": "markdown",
   "metadata": {},
   "source": [
    "# ETS"
   ]
  },
  {
   "cell_type": "code",
   "execution_count": 24,
   "metadata": {
    "ExecuteTime": {
     "end_time": "2018-08-11T12:18:34.971342Z",
     "start_time": "2018-08-11T12:17:52.455553Z"
    }
   },
   "outputs": [],
   "source": [
    "ets = holtwinters.ExponentialSmoothing(so2[:200], trend='additive', damped=True,\n",
    "                                         seasonal='additive', freq='H',\n",
    "                                       seasonal_periods=24)\n",
    "fit = ets.fit()\n",
    "ets2 = holtwinters.ExponentialSmoothing(so2[:200], trend='additive', damped=True,\n",
    "                                        seasonal='additive', freq='H',\n",
    "                                        seasonal_periods=24)\n",
    "fit2 = ets2.fit(use_boxcox=True)"
   ]
  },
  {
   "cell_type": "code",
   "execution_count": 36,
   "metadata": {
    "ExecuteTime": {
     "end_time": "2018-08-11T12:24:45.301786Z",
     "start_time": "2018-08-11T12:24:45.270271Z"
    }
   },
   "outputs": [],
   "source": [
    "pred1 = fit.predict(so2.index[201], so2.index[251])\n",
    "pred2 = fit2.predict(so2.index[201], so2.index[251])"
   ]
  },
  {
   "cell_type": "code",
   "execution_count": 37,
   "metadata": {
    "ExecuteTime": {
     "end_time": "2018-08-11T12:24:47.798439Z",
     "start_time": "2018-08-11T12:24:47.782768Z"
    }
   },
   "outputs": [
    {
     "name": "stdout",
     "output_type": "stream",
     "text": [
      "mae 0.741529828432183\n",
      "mse 1.1477059358858335\n",
      "mae 0.7239467088680649\n",
      "mse 1.1477059358858335\n"
     ]
    }
   ],
   "source": [
    "for pred in [pred1, pred2]:\n",
    "    print('mae ' + str(_calc_mae(so2[201:251], pred)))\n",
    "    print('mse ' + str(_calc_mse(so2[201:251], pred)))"
   ]
  },
  {
   "cell_type": "markdown",
   "metadata": {
    "ExecuteTime": {
     "end_time": "2018-08-11T12:30:03.971833Z",
     "start_time": "2018-08-11T12:30:03.935022Z"
    }
   },
   "source": [
    "# ARIMA"
   ]
  },
  {
   "cell_type": "code",
   "execution_count": 27,
   "metadata": {
    "ExecuteTime": {
     "end_time": "2018-08-11T19:33:42.075423Z",
     "start_time": "2018-08-11T19:33:33.628801Z"
    }
   },
   "outputs": [
    {
     "name": "stdout",
     "output_type": "stream",
     "text": [
      "Fit ARIMA: order=(1, 0, 1) seasonal_order=(0, 0, 0, 1); AIC=5675.344, BIC=5697.747, Fit time=0.342 seconds\n",
      "Fit ARIMA: order=(0, 0, 0) seasonal_order=(0, 0, 0, 1); AIC=8956.276, BIC=8967.478, Fit time=0.082 seconds\n",
      "Fit ARIMA: order=(1, 0, 0) seasonal_order=(0, 0, 0, 1); AIC=5688.027, BIC=5704.829, Fit time=0.351 seconds\n",
      "Fit ARIMA: order=(0, 0, 1) seasonal_order=(0, 0, 0, 1); AIC=7278.965, BIC=7295.768, Fit time=0.273 seconds\n",
      "Fit ARIMA: order=(2, 0, 1) seasonal_order=(0, 0, 0, 1); AIC=nan, BIC=nan, Fit time=nan seconds\n",
      "Fit ARIMA: order=(1, 0, 2) seasonal_order=(0, 0, 0, 1); AIC=5668.527, BIC=5696.531, Fit time=0.676 seconds\n",
      "Fit ARIMA: order=(2, 0, 3) seasonal_order=(0, 0, 0, 1); AIC=5670.459, BIC=5709.666, Fit time=3.466 seconds\n",
      "Fit ARIMA: order=(0, 0, 2) seasonal_order=(0, 0, 0, 1); AIC=6527.421, BIC=6549.824, Fit time=0.596 seconds\n",
      "Fit ARIMA: order=(2, 0, 2) seasonal_order=(0, 0, 0, 1); AIC=5670.485, BIC=5704.090, Fit time=1.604 seconds\n",
      "Fit ARIMA: order=(1, 0, 3) seasonal_order=(0, 0, 0, 1); AIC=5670.457, BIC=5704.063, Fit time=1.039 seconds\n",
      "Total fit time: 8.439 seconds\n"
     ]
    }
   ],
   "source": [
    "arima_stepwise = auto_arima(so2[:3000], start_p=1, start_q=1, max_p=4, max_q=4,\n",
    "                          start_P=0, trace=True,\n",
    "                          error_action='ignore',  # don't want to know if an order does not work\n",
    "                          suppress_warnings=True,  # don't want convergence warnings\n",
    "                          stepwise=True)  # set to stepwise"
   ]
  },
  {
   "cell_type": "code",
   "execution_count": 28,
   "metadata": {
    "ExecuteTime": {
     "end_time": "2018-08-11T19:33:43.047443Z",
     "start_time": "2018-08-11T19:33:43.021011Z"
    }
   },
   "outputs": [],
   "source": [
    "pred = arima_stepwise.predict(n_periods=50)\n",
    "pred_series = pd.Series(pred)"
   ]
  },
  {
   "cell_type": "code",
   "execution_count": 31,
   "metadata": {
    "ExecuteTime": {
     "end_time": "2018-08-11T19:35:04.624563Z",
     "start_time": "2018-08-11T19:35:04.614206Z"
    }
   },
   "outputs": [
    {
     "name": "stdout",
     "output_type": "stream",
     "text": [
      "mae 2.535671133543085\n",
      "mse 7.743558505141733\n"
     ]
    }
   ],
   "source": [
    "print('mae ' + str(_calc_mae(so2[3001:3051], pred_series)))\n",
    "print('mse ' + str(_calc_mse(so2[3001:3051], pred_series)))"
   ]
  },
  {
   "cell_type": "code",
   "execution_count": 30,
   "metadata": {
    "ExecuteTime": {
     "end_time": "2018-08-11T19:33:52.932034Z",
     "start_time": "2018-08-11T19:33:52.905997Z"
    }
   },
   "outputs": [
    {
     "data": {
      "text/html": [
       "<table class=\"simpletable\">\n",
       "<caption>Statespace Model Results</caption>\n",
       "<tr>\n",
       "  <th>Dep. Variable:</th>           <td>y</td>        <th>  No. Observations:  </th>   <td>2000</td>   \n",
       "</tr>\n",
       "<tr>\n",
       "  <th>Model:</th>           <td>SARIMAX(1, 0, 2)</td> <th>  Log Likelihood     </th> <td>-2829.263</td>\n",
       "</tr>\n",
       "<tr>\n",
       "  <th>Date:</th>            <td>Sat, 11 Aug 2018</td> <th>  AIC                </th> <td>5668.527</td> \n",
       "</tr>\n",
       "<tr>\n",
       "  <th>Time:</th>                <td>21:33:52</td>     <th>  BIC                </th> <td>5696.531</td> \n",
       "</tr>\n",
       "<tr>\n",
       "  <th>Sample:</th>                  <td>0</td>        <th>  HQIC               </th> <td>5678.810</td> \n",
       "</tr>\n",
       "<tr>\n",
       "  <th></th>                      <td> - 2000</td>     <th>                     </th>     <td> </td>    \n",
       "</tr>\n",
       "<tr>\n",
       "  <th>Covariance Type:</th>        <td>opg</td>       <th>                     </th>     <td> </td>    \n",
       "</tr>\n",
       "</table>\n",
       "<table class=\"simpletable\">\n",
       "<tr>\n",
       "      <td></td>         <th>coef</th>     <th>std err</th>      <th>z</th>      <th>P>|z|</th>  <th>[0.025</th>    <th>0.975]</th>  \n",
       "</tr>\n",
       "<tr>\n",
       "  <th>intercept</th> <td>    0.3627</td> <td>    0.047</td> <td>    7.776</td> <td> 0.000</td> <td>    0.271</td> <td>    0.454</td>\n",
       "</tr>\n",
       "<tr>\n",
       "  <th>ar.L1</th>     <td>    0.9200</td> <td>    0.004</td> <td>  216.545</td> <td> 0.000</td> <td>    0.912</td> <td>    0.928</td>\n",
       "</tr>\n",
       "<tr>\n",
       "  <th>ma.L1</th>     <td>    0.0819</td> <td>    0.011</td> <td>    7.494</td> <td> 0.000</td> <td>    0.060</td> <td>    0.103</td>\n",
       "</tr>\n",
       "<tr>\n",
       "  <th>ma.L2</th>     <td>   -0.0786</td> <td>    0.014</td> <td>   -5.718</td> <td> 0.000</td> <td>   -0.106</td> <td>   -0.052</td>\n",
       "</tr>\n",
       "<tr>\n",
       "  <th>sigma2</th>    <td>    0.9905</td> <td>    0.008</td> <td>  117.266</td> <td> 0.000</td> <td>    0.974</td> <td>    1.007</td>\n",
       "</tr>\n",
       "</table>\n",
       "<table class=\"simpletable\">\n",
       "<tr>\n",
       "  <th>Ljung-Box (Q):</th>          <td>110.28</td> <th>  Jarque-Bera (JB):  </th> <td>152481.34</td>\n",
       "</tr>\n",
       "<tr>\n",
       "  <th>Prob(Q):</th>                 <td>0.00</td>  <th>  Prob(JB):          </th>   <td>0.00</td>   \n",
       "</tr>\n",
       "<tr>\n",
       "  <th>Heteroskedasticity (H):</th>  <td>1.21</td>  <th>  Skew:              </th>   <td>-0.54</td>  \n",
       "</tr>\n",
       "<tr>\n",
       "  <th>Prob(H) (two-sided):</th>     <td>0.01</td>  <th>  Kurtosis:          </th>   <td>45.76</td>  \n",
       "</tr>\n",
       "</table><br/><br/>Warnings:<br/>[1] Covariance matrix calculated using the outer product of gradients (complex-step)."
      ],
      "text/plain": [
       "<class 'statsmodels.iolib.summary.Summary'>\n",
       "\"\"\"\n",
       "                           Statespace Model Results                           \n",
       "==============================================================================\n",
       "Dep. Variable:                      y   No. Observations:                 2000\n",
       "Model:               SARIMAX(1, 0, 2)   Log Likelihood               -2829.263\n",
       "Date:                Sat, 11 Aug 2018   AIC                           5668.527\n",
       "Time:                        21:33:52   BIC                           5696.531\n",
       "Sample:                             0   HQIC                          5678.810\n",
       "                               - 2000                                         \n",
       "Covariance Type:                  opg                                         \n",
       "==============================================================================\n",
       "                 coef    std err          z      P>|z|      [0.025      0.975]\n",
       "------------------------------------------------------------------------------\n",
       "intercept      0.3627      0.047      7.776      0.000       0.271       0.454\n",
       "ar.L1          0.9200      0.004    216.545      0.000       0.912       0.928\n",
       "ma.L1          0.0819      0.011      7.494      0.000       0.060       0.103\n",
       "ma.L2         -0.0786      0.014     -5.718      0.000      -0.106      -0.052\n",
       "sigma2         0.9905      0.008    117.266      0.000       0.974       1.007\n",
       "===================================================================================\n",
       "Ljung-Box (Q):                      110.28   Jarque-Bera (JB):            152481.34\n",
       "Prob(Q):                              0.00   Prob(JB):                         0.00\n",
       "Heteroskedasticity (H):               1.21   Skew:                            -0.54\n",
       "Prob(H) (two-sided):                  0.01   Kurtosis:                        45.76\n",
       "===================================================================================\n",
       "\n",
       "Warnings:\n",
       "[1] Covariance matrix calculated using the outer product of gradients (complex-step).\n",
       "\"\"\""
      ]
     },
     "execution_count": 30,
     "metadata": {},
     "output_type": "execute_result"
    }
   ],
   "source": [
    "arima_stepwise.summary()"
   ]
  },
  {
   "cell_type": "markdown",
   "metadata": {},
   "source": [
    "# Prophet"
   ]
  },
  {
   "cell_type": "code",
   "execution_count": 37,
   "metadata": {
    "ExecuteTime": {
     "end_time": "2018-08-12T15:18:31.695223Z",
     "start_time": "2018-08-12T15:18:30.766032Z"
    }
   },
   "outputs": [
    {
     "name": "stderr",
     "output_type": "stream",
     "text": [
      "INFO:fbprophet.forecaster:Disabling yearly seasonality. Run prophet with yearly_seasonality=True to override this.\n",
      "/usr/lib/python3.6/site-packages/pystan/misc.py:399: FutureWarning: Conversion of the second argument of issubdtype from `float` to `np.floating` is deprecated. In future, it will be treated as `np.float64 == np.dtype(float).type`.\n",
      "  elif np.issubdtype(np.asarray(v).dtype, float):\n"
     ]
    }
   ],
   "source": [
    "pdf = so2[:3000].reset_index()\n",
    "pdf = pdf.rename(columns={'Timestamp': 'ds', 'SO2': 'y'})\n",
    "\n",
    "prophet = Prophet()\n",
    "prophet_fit = prophet.fit(df=pdf)\n",
    "future = prophet.make_future_dataframe(50)[-50:]"
   ]
  },
  {
   "cell_type": "code",
   "execution_count": 38,
   "metadata": {
    "ExecuteTime": {
     "end_time": "2018-08-12T15:18:42.578948Z",
     "start_time": "2018-08-12T15:18:32.075331Z"
    }
   },
   "outputs": [],
   "source": [
    "pred = prophet.predict(future)"
   ]
  },
  {
   "cell_type": "code",
   "execution_count": 39,
   "metadata": {
    "ExecuteTime": {
     "end_time": "2018-08-12T15:18:42.970698Z",
     "start_time": "2018-08-12T15:18:42.964786Z"
    }
   },
   "outputs": [
    {
     "name": "stdout",
     "output_type": "stream",
     "text": [
      "3050   3000\n"
     ]
    }
   ],
   "source": [
    "print(len(pred), ' ', len(pdf))"
   ]
  },
  {
   "cell_type": "code",
   "execution_count": 40,
   "metadata": {
    "ExecuteTime": {
     "end_time": "2018-08-12T15:18:43.375670Z",
     "start_time": "2018-08-12T15:18:43.362799Z"
    }
   },
   "outputs": [
    {
     "name": "stdout",
     "output_type": "stream",
     "text": [
      "mae 0.8047518265279892\n",
      "mse 1.1836808252591968\n"
     ]
    }
   ],
   "source": [
    "print('mae ' + str(_calc_mae(so2[3000:3050], pred['yhat'])))\n",
    "print('mse ' + str(_calc_mse(so2[3000:3050], pred['yhat'])))"
   ]
  },
  {
   "cell_type": "code",
   "execution_count": null,
   "metadata": {},
   "outputs": [],
   "source": []
  }
 ],
 "metadata": {
  "kernelspec": {
   "display_name": "Python 3",
   "language": "python",
   "name": "python3"
  },
  "language_info": {
   "codemirror_mode": {
    "name": "ipython",
    "version": 3
   },
   "file_extension": ".py",
   "mimetype": "text/x-python",
   "name": "python",
   "nbconvert_exporter": "python",
   "pygments_lexer": "ipython3",
   "version": "3.6.6"
  },
  "varInspector": {
   "cols": {
    "lenName": 16.0,
    "lenType": 16.0,
    "lenVar": 40.0
   },
   "kernels_config": {
    "python": {
     "delete_cmd_postfix": "",
     "delete_cmd_prefix": "del ",
     "library": "var_list.py",
     "varRefreshCmd": "print(var_dic_list())"
    },
    "r": {
     "delete_cmd_postfix": ") ",
     "delete_cmd_prefix": "rm(",
     "library": "var_list.r",
     "varRefreshCmd": "cat(var_dic_list()) "
    }
   },
   "position": {
    "height": "482px",
    "left": "1230px",
    "right": "20px",
    "top": "120px",
    "width": "350px"
   },
   "types_to_exclude": [
    "module",
    "function",
    "builtin_function_or_method",
    "instance",
    "_Feature"
   ],
   "window_display": false
  }
 },
 "nbformat": 4,
 "nbformat_minor": 2
}
