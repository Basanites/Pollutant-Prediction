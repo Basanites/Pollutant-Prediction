{
 "cells": [
  {
   "cell_type": "markdown",
   "metadata": {},
   "source": [
    "# imports"
   ]
  },
  {
   "cell_type": "code",
   "execution_count": 1,
   "metadata": {
    "ExecuteTime": {
     "end_time": "2018-08-16T15:13:21.394597Z",
     "start_time": "2018-08-16T15:13:16.857463Z"
    }
   },
   "outputs": [],
   "source": [
    "from sklearn.metrics import mean_squared_error\n",
    "from sklearn.preprocessing import MinMaxScaler\n",
    "from statsmodels.tsa import holtwinters, arima_model\n",
    "from pandas.tseries.offsets import *\n",
    "from tensorflow.python.keras import Sequential\n",
    "from tensorflow.python.keras.layers import Dense, LSTM, GRU, Dropout, Embedding\n",
    "from pyramid.arima import ARIMA, auto_arima\n",
    "from math import sqrt\n",
    "from matplotlib import pyplot\n",
    "import numpy\n",
    "import math"
   ]
  },
  {
   "cell_type": "code",
   "execution_count": 2,
   "metadata": {
    "ExecuteTime": {
     "end_time": "2018-08-16T15:13:30.901128Z",
     "start_time": "2018-08-16T15:13:21.418509Z"
    }
   },
   "outputs": [
    {
     "name": "stdout",
     "output_type": "stream",
     "text": [
      "/home/sebastian/Programming/Bachelorthesis\n"
     ]
    }
   ],
   "source": [
    "import glob\n",
    "import math\n",
    "import os\n",
    "\n",
    "import matplotlib.pyplot as plt\n",
    "import numpy as np\n",
    "import pandas as pd\n",
    "from fbprophet import Prophet\n",
    "from sklearn import neighbors, ensemble, tree, metrics\n",
    "from statsmodels.graphics import tsaplots\n",
    "from statsmodels.tsa.arima_model import ARIMA\n",
    "from statsmodels.tsa.holtwinters import ExponentialSmoothing\n",
    "from statsmodels.tsa.seasonal import *\n",
    "import calendar\n",
    "\n",
    "%matplotlib notebook\n",
    "\n",
    "package_dir = os.getcwd()\n",
    "\n",
    "print(package_dir)\n",
    "\n",
    "df = pd.DataFrame()\n",
    "\n",
    "for file in glob.glob('res/*2013_timeseries.csv'):\n",
    "    # read single file, index on StationEoI and DatetimeEnd\n",
    "    read = pd.read_csv(file,\n",
    "                 encoding=\"utf-16\", parse_dates=[13, 14],\n",
    "                 infer_datetime_format=True,\n",
    "                 index_col=[14])\n",
    "    # drop 'bulk' files because they have different averaging\n",
    "    bulks = read.SamplingPoint.str.lower().str.contains('bulk')\n",
    "    clean = read[~bulks].copy()\n",
    "    \n",
    "    # ignore unnecessary columns\n",
    "    clean.drop(columns=['Countrycode', 'Namespace', 'AirQualityNetwork',\n",
    "                 'AirQualityStation', 'SamplingPoint', 'Sample',\n",
    "                 'SamplingProcess', 'AirPollutantCode',\n",
    "                 'DatetimeBegin', 'Validity', 'Verification',\n",
    "                 'AveragingTime'],\n",
    "        inplace=True)\n",
    "    \n",
    "    \n",
    "    df = pd.concat([df, clean])\n",
    "\n",
    "# make pollutant a column for better memory usage\n",
    "df = df.pivot_table(columns='AirPollutant',\n",
    "                   index=[df.index, 'AirQualityStationEoICode', 'UnitOfMeasurement'],\n",
    "                   values='Concentration').reset_index(level=[1,2])\n",
    "\n",
    "# make names shorter    \n",
    "df.index.names = ['Timestamp']\n",
    "#df.columns.names = [None, 'Pollutant']\n",
    "\n",
    "df = df.sort_index()\n",
    "#df = df.groupby(level=[0]).first()\n",
    "\n",
    "def create_artificial_features(series, frequency='H', steps=7):\n",
    "    nondups = series[~series.index.duplicated()]\n",
    "    lagged = create_lagged_features(nondups, frequency, steps)\n",
    "    \n",
    "    statistics = lagged\n",
    "    statistics['sum'] = lagged.sum(axis=1)\n",
    "    statistics['mean'] = lagged.mean(axis=1)\n",
    "    statistics['median'] = lagged.median(axis=1)\n",
    "    \n",
    "#    weekdays = pd.get_dummies(lagged.index.weekday_name)\n",
    "#    weekdays = weekdays.applymap(lambda x: bool(x))\n",
    "#    weekdays.index = lagged.index\n",
    "    \n",
    "#    months = pd.get_dummies(lagged.index.month.map(lambda x: calendar.month_abbr[x]))\n",
    "#    months = months.applymap(lambda x: bool(x))\n",
    "#    months.index = lagged.index\n",
    "    \n",
    "#    out = statistics.join(weekdays).join(months)\n",
    "    out = statistics\n",
    "    \n",
    "    return out\n",
    "\n",
    "def create_lagged_features(series, frequency='H', steps=7):\n",
    "    lagged = pd.DataFrame()\n",
    "\n",
    "\n",
    "    for i in range(0, steps):\n",
    "        lagged['lag {}{}'.format(i, frequency)] = series.shift(i, freq=frequency)\n",
    "\n",
    "    lagged.index = series.index\n",
    "    lagged = lagged[steps:]\n",
    "\n",
    "    return lagged.interpolate()"
   ]
  },
  {
   "cell_type": "code",
   "execution_count": 65,
   "metadata": {
    "ExecuteTime": {
     "end_time": "2018-08-17T11:18:56.129585Z",
     "start_time": "2018-08-17T11:18:56.118993Z"
    }
   },
   "outputs": [],
   "source": [
    "def difference_series(series, stepsize=1):\n",
    "    diff = list()\n",
    "    for i in range(stepsize, len(series), stepsize):\n",
    "        diff.append(series.iloc[i] - series.iloc[i - stepsize])\n",
    "    out = pd.Series(diff)\n",
    "    out.index = series.index[stepsize::stepsize]\n",
    "    return out\n",
    "\n",
    "def dedifference_series(series, start_level, stepsize=1):\n",
    "    dediff = list()\n",
    "    sum = start_level\n",
    "    for i in range(0, len(series), stepsize):\n",
    "        sum += series.iloc[i]\n",
    "        dediff.append(sum)\n",
    "    out = pd.Series(dediff)\n",
    "    out.index = series.index\n",
    "    return out\n",
    "\n",
    "def scale_series(series):\n",
    "    X = series.values\n",
    "    X = X.reshape(len(X), 1)\n",
    "    scaler = MinMaxScaler(feature_range=(-1, 1))\n",
    "    scaler = scaler.fit(X)\n",
    "    scaled_X = scaler.transform(X)\n",
    "    scaled_X = scaled_X.reshape(len(scaled_X))\n",
    "    scaled_series = pd.Series(data=scaled_X, index=series.index)\n",
    "    return scaled_series, scaler"
   ]
  },
  {
   "cell_type": "code",
   "execution_count": 59,
   "metadata": {
    "ExecuteTime": {
     "end_time": "2018-08-17T10:33:18.197308Z",
     "start_time": "2018-08-17T10:33:18.192291Z"
    }
   },
   "outputs": [],
   "source": [
    "def _calc_mae(expected, actual):\n",
    "    mae = 0\n",
    "    for i in range(0, len(expected)):\n",
    "        mae += math.fabs(expected.iloc[i] - actual.iloc[i])\n",
    "    return mae / len(expected)\n",
    "\n",
    "\n",
    "def _calc_mse(expected, actual):\n",
    "    mse = 0\n",
    "    for i in range(0, len(expected)):\n",
    "        mse += (expected.iloc[i] - actual.iloc[i]) ** 2\n",
    "    return mse / len(expected)"
   ]
  },
  {
   "cell_type": "code",
   "execution_count": 60,
   "metadata": {
    "ExecuteTime": {
     "end_time": "2018-08-17T10:33:19.189114Z",
     "start_time": "2018-08-17T10:33:18.571755Z"
    }
   },
   "outputs": [],
   "source": [
    "so2 = df[df.AirQualityStationEoICode == 'DESN025'].SO2.interpolate()\n",
    "so2 = so2[~so2.index.duplicated(keep='last')]\n",
    "diff = difference_series(so2)\n",
    "dediff = dedifference_series(diff, so2.iloc[0])"
   ]
  },
  {
   "cell_type": "markdown",
   "metadata": {
    "ExecuteTime": {
     "end_time": "2018-08-11T10:30:21.185686Z",
     "start_time": "2018-08-11T10:30:21.181190Z"
    }
   },
   "source": [
    "# GRU"
   ]
  },
  {
   "cell_type": "code",
   "execution_count": 6,
   "metadata": {
    "ExecuteTime": {
     "end_time": "2018-08-16T15:13:32.884244Z",
     "start_time": "2018-08-16T15:13:32.873097Z"
    }
   },
   "outputs": [
    {
     "name": "stdout",
     "output_type": "stream",
     "text": [
      "Timestamp\n",
      "2013-01-01 00:00:00    27.458\n",
      "2013-01-01 01:00:00    10.514\n",
      "2013-01-01 02:00:00     5.561\n",
      "2013-01-01 03:00:00     4.948\n",
      "2013-01-01 04:00:00     4.043\n",
      "Name: SO2, dtype: float64\n",
      "Timestamp\n",
      "2013-01-01 01:00:00   -16.944\n",
      "2013-01-01 02:00:00    -4.953\n",
      "2013-01-01 03:00:00    -0.613\n",
      "2013-01-01 04:00:00    -0.905\n",
      "2013-01-01 05:00:00     0.032\n",
      "dtype: float64\n",
      "Timestamp\n",
      "2013-01-01 01:00:00    10.514\n",
      "2013-01-01 02:00:00     5.561\n",
      "2013-01-01 03:00:00     4.948\n",
      "2013-01-01 04:00:00     4.043\n",
      "2013-01-01 05:00:00     4.075\n",
      "dtype: float64\n"
     ]
    }
   ],
   "source": [
    "print(so2.head())\n",
    "print(diff.head())\n",
    "print(dediff.head())"
   ]
  },
  {
   "cell_type": "code",
   "execution_count": 64,
   "metadata": {
    "ExecuteTime": {
     "end_time": "2018-08-17T10:37:20.909118Z",
     "start_time": "2018-08-17T10:37:20.376034Z"
    }
   },
   "outputs": [],
   "source": [
    "scaled, scaler = scale_series(so2)\n",
    "artificial = create_artificial_features(scaled, steps=24)"
   ]
  },
  {
   "cell_type": "code",
   "execution_count": 53,
   "metadata": {
    "ExecuteTime": {
     "end_time": "2018-08-16T21:51:44.850867Z",
     "start_time": "2018-08-16T21:51:44.528697Z"
    }
   },
   "outputs": [],
   "source": [
    "model = Sequential()\n",
    "model.add(GRU(15, input_shape=(27,1)))\n",
    "model.add(Dropout(0.2))\n",
    "model.add(Dense(1))\n",
    "model.compile('rmsprop', loss='mse')"
   ]
  },
  {
   "cell_type": "code",
   "execution_count": 54,
   "metadata": {
    "ExecuteTime": {
     "end_time": "2018-08-16T21:51:53.159394Z",
     "start_time": "2018-08-16T21:51:45.220678Z"
    }
   },
   "outputs": [
    {
     "name": "stdout",
     "output_type": "stream",
     "text": [
      "Epoch 1/10\n",
      "6076/6076 [==============================] - 1s 241us/step - loss: 0.6111\n",
      "Epoch 2/10\n",
      "6076/6076 [==============================] - 1s 103us/step - loss: 0.0547\n",
      "Epoch 3/10\n",
      "6076/6076 [==============================] - 1s 96us/step - loss: 0.0420\n",
      "Epoch 4/10\n",
      "6076/6076 [==============================] - 1s 101us/step - loss: 0.0365\n",
      "Epoch 5/10\n",
      "6076/6076 [==============================] - 1s 101us/step - loss: 0.0349\n",
      "Epoch 6/10\n",
      "6076/6076 [==============================] - 1s 97us/step - loss: 0.0312\n",
      "Epoch 7/10\n",
      "6076/6076 [==============================] - 1s 101us/step - loss: 0.0306\n",
      "Epoch 8/10\n",
      "6076/6076 [==============================] - 1s 96us/step - loss: 0.0291\n",
      "Epoch 9/10\n",
      "6076/6076 [==============================] - 1s 100us/step - loss: 0.0286\n",
      "Epoch 10/10\n",
      "6076/6076 [==============================] - 1s 100us/step - loss: 0.0283\n"
     ]
    }
   ],
   "source": [
    "train_length = 0.7\n",
    "\n",
    "x = artificial.loc[scaled[24:-24].index].values\n",
    "x_tr = x[:int(len(x)*train_length)]\n",
    "x_tr = x_tr.reshape(x_tr.shape[0], x_tr.shape[1], 1)\n",
    "\n",
    "x_te = x[int(len(x)*train_length):]\n",
    "x_te = x_te.reshape(x_te.shape[0], x_te.shape[1], 1)\n",
    "\n",
    "y = scaled[48:].values\n",
    "y_tr = y[:int(len(y)*train_length)]\n",
    "y_tr = y_tr.reshape(y_tr.shape[0], 1)\n",
    "\n",
    "y_te = y[int(len(y)*train_length):]\n",
    "y_te = y_te.reshape(y_te.shape[0], 1)\n",
    "\n",
    "change_point = scaled[48:].index[int(len(y)*train_length)]\n",
    "\n",
    "\n",
    "fit = model.fit(x_tr, y_tr, batch_size=24*7, epochs=10)"
   ]
  },
  {
   "cell_type": "code",
   "execution_count": 55,
   "metadata": {
    "ExecuteTime": {
     "end_time": "2018-08-16T21:51:54.479803Z",
     "start_time": "2018-08-16T21:51:53.530605Z"
    }
   },
   "outputs": [],
   "source": [
    "pred_test = model.predict(x_te)\n",
    "pred_rescaled = scaler.inverse_transform(pred_test)\n",
    "pred_rescaled = pd.Series(pred_rescaled.reshape(len(pred_rescaled)))\n",
    "\n",
    "pred_train = model.predict(x_tr)\n",
    "pred2_rescaled = scaler.inverse_transform(pred_train)\n",
    "pred2_rescaled = pd.Series(pred2_rescaled.reshape(len(pred2_rescaled)))"
   ]
  },
  {
   "cell_type": "code",
   "execution_count": 56,
   "metadata": {
    "ExecuteTime": {
     "end_time": "2018-08-16T21:51:55.819812Z",
     "start_time": "2018-08-16T21:51:54.827545Z"
    }
   },
   "outputs": [
    {
     "name": "stdout",
     "output_type": "stream",
     "text": [
      "Test\n",
      "1.1735386677006001\n",
      "3.085869181592099\n",
      "\n",
      "Train\n",
      "1.247569422727221\n",
      "3.998400966046272\n"
     ]
    }
   ],
   "source": [
    "print('Test')\n",
    "print(_calc_mae(pred_rescaled, so2[change_point:][:len(pred_rescaled)]))\n",
    "print(_calc_mse(pred_rescaled, so2[change_point:][:len(pred_rescaled)]))\n",
    "print('\\nTrain')\n",
    "print(_calc_mae(pred2_rescaled, so2[scaled[48:].index[0]:][:len(pred2_rescaled)]))\n",
    "print(_calc_mse(pred2_rescaled, so2[scaled[48:].index[0]:][:len(pred2_rescaled)]))"
   ]
  },
  {
   "cell_type": "code",
   "execution_count": 57,
   "metadata": {
    "ExecuteTime": {
     "end_time": "2018-08-16T21:51:56.259039Z",
     "start_time": "2018-08-16T21:51:56.194781Z"
    }
   },
   "outputs": [
    {
     "data": {
      "text/plain": [
       "<IPython.core.display.Javascript object>"
      ]
     },
     "metadata": {},
     "output_type": "display_data"
    },
    {
     "data": {
      "text/html": [
       "<img src=\"data:image/png;base64,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\" width=\"969\">"
      ],
      "text/plain": [
       "<IPython.core.display.HTML object>"
      ]
     },
     "metadata": {},
     "output_type": "execute_result"
    },
    {
     "data": {
      "text/plain": [
       "[<matplotlib.lines.Line2D at 0x7f54ec6ceb70>]"
      ]
     },
     "execution_count": 57,
     "metadata": {},
     "output_type": "execute_result"
    }
   ],
   "source": [
    "index = so2[change_point:][:len(pred_rescaled)].index\n",
    "actual = so2[change_point:][:len(pred_rescaled)]\n",
    "\n",
    "plt.figure(1)\n",
    "plt.subplot(211)\n",
    "plt.plot(index, pred_rescaled, 'g')\n",
    "\n",
    "plt.subplot(212)\n",
    "plt.plot(index, actual, 'b')"
   ]
  },
  {
   "cell_type": "markdown",
   "metadata": {},
   "source": [
    "# ETS"
   ]
  },
  {
   "cell_type": "code",
   "execution_count": 24,
   "metadata": {
    "ExecuteTime": {
     "end_time": "2018-08-11T12:18:34.971342Z",
     "start_time": "2018-08-11T12:17:52.455553Z"
    }
   },
   "outputs": [],
   "source": [
    "ets = holtwinters.ExponentialSmoothing(so2[:200], trend='additive', damped=True,\n",
    "                                         seasonal='additive', freq='H',\n",
    "                                       seasonal_periods=24)\n",
    "fit = ets.fit()\n",
    "ets2 = holtwinters.ExponentialSmoothing(so2[:200], trend='additive', damped=True,\n",
    "                                        seasonal='additive', freq='H',\n",
    "                                        seasonal_periods=24)\n",
    "fit2 = ets2.fit(use_boxcox=True)"
   ]
  },
  {
   "cell_type": "code",
   "execution_count": 36,
   "metadata": {
    "ExecuteTime": {
     "end_time": "2018-08-11T12:24:45.301786Z",
     "start_time": "2018-08-11T12:24:45.270271Z"
    }
   },
   "outputs": [],
   "source": [
    "pred1 = fit.predict(so2.index[201], so2.index[251])\n",
    "pred2 = fit2.predict(so2.index[201], so2.index[251])"
   ]
  },
  {
   "cell_type": "code",
   "execution_count": 37,
   "metadata": {
    "ExecuteTime": {
     "end_time": "2018-08-11T12:24:47.798439Z",
     "start_time": "2018-08-11T12:24:47.782768Z"
    }
   },
   "outputs": [
    {
     "name": "stdout",
     "output_type": "stream",
     "text": [
      "mae 0.741529828432183\n",
      "mse 1.1477059358858335\n",
      "mae 0.7239467088680649\n",
      "mse 1.1477059358858335\n"
     ]
    }
   ],
   "source": [
    "for pred in [pred1, pred2]:\n",
    "    print('mae ' + str(_calc_mae(so2[201:251], pred)))\n",
    "    print('mse ' + str(_calc_mse(so2[201:251], pred)))"
   ]
  },
  {
   "cell_type": "markdown",
   "metadata": {
    "ExecuteTime": {
     "end_time": "2018-08-11T12:30:03.971833Z",
     "start_time": "2018-08-11T12:30:03.935022Z"
    }
   },
   "source": [
    "# ARIMA"
   ]
  },
  {
   "cell_type": "code",
   "execution_count": 27,
   "metadata": {
    "ExecuteTime": {
     "end_time": "2018-08-11T19:33:42.075423Z",
     "start_time": "2018-08-11T19:33:33.628801Z"
    }
   },
   "outputs": [
    {
     "name": "stdout",
     "output_type": "stream",
     "text": [
      "Fit ARIMA: order=(1, 0, 1) seasonal_order=(0, 0, 0, 1); AIC=5675.344, BIC=5697.747, Fit time=0.342 seconds\n",
      "Fit ARIMA: order=(0, 0, 0) seasonal_order=(0, 0, 0, 1); AIC=8956.276, BIC=8967.478, Fit time=0.082 seconds\n",
      "Fit ARIMA: order=(1, 0, 0) seasonal_order=(0, 0, 0, 1); AIC=5688.027, BIC=5704.829, Fit time=0.351 seconds\n",
      "Fit ARIMA: order=(0, 0, 1) seasonal_order=(0, 0, 0, 1); AIC=7278.965, BIC=7295.768, Fit time=0.273 seconds\n",
      "Fit ARIMA: order=(2, 0, 1) seasonal_order=(0, 0, 0, 1); AIC=nan, BIC=nan, Fit time=nan seconds\n",
      "Fit ARIMA: order=(1, 0, 2) seasonal_order=(0, 0, 0, 1); AIC=5668.527, BIC=5696.531, Fit time=0.676 seconds\n",
      "Fit ARIMA: order=(2, 0, 3) seasonal_order=(0, 0, 0, 1); AIC=5670.459, BIC=5709.666, Fit time=3.466 seconds\n",
      "Fit ARIMA: order=(0, 0, 2) seasonal_order=(0, 0, 0, 1); AIC=6527.421, BIC=6549.824, Fit time=0.596 seconds\n",
      "Fit ARIMA: order=(2, 0, 2) seasonal_order=(0, 0, 0, 1); AIC=5670.485, BIC=5704.090, Fit time=1.604 seconds\n",
      "Fit ARIMA: order=(1, 0, 3) seasonal_order=(0, 0, 0, 1); AIC=5670.457, BIC=5704.063, Fit time=1.039 seconds\n",
      "Total fit time: 8.439 seconds\n"
     ]
    }
   ],
   "source": [
    "arima_stepwise = auto_arima(so2[:3000], start_p=1, start_q=1, max_p=4, max_q=4,\n",
    "                          start_P=0, trace=True,\n",
    "                          error_action='ignore',  # don't want to know if an order does not work\n",
    "                          suppress_warnings=True,  # don't want convergence warnings\n",
    "                          stepwise=True)  # set to stepwise"
   ]
  },
  {
   "cell_type": "code",
   "execution_count": 28,
   "metadata": {
    "ExecuteTime": {
     "end_time": "2018-08-11T19:33:43.047443Z",
     "start_time": "2018-08-11T19:33:43.021011Z"
    }
   },
   "outputs": [],
   "source": [
    "pred = arima_stepwise.predict(n_periods=50)\n",
    "pred_series = pd.Series(pred)"
   ]
  },
  {
   "cell_type": "code",
   "execution_count": 31,
   "metadata": {
    "ExecuteTime": {
     "end_time": "2018-08-11T19:35:04.624563Z",
     "start_time": "2018-08-11T19:35:04.614206Z"
    }
   },
   "outputs": [
    {
     "name": "stdout",
     "output_type": "stream",
     "text": [
      "mae 2.535671133543085\n",
      "mse 7.743558505141733\n"
     ]
    }
   ],
   "source": [
    "print('mae ' + str(_calc_mae(so2[3001:3051], pred_series)))\n",
    "print('mse ' + str(_calc_mse(so2[3001:3051], pred_series)))"
   ]
  },
  {
   "cell_type": "code",
   "execution_count": 30,
   "metadata": {
    "ExecuteTime": {
     "end_time": "2018-08-11T19:33:52.932034Z",
     "start_time": "2018-08-11T19:33:52.905997Z"
    }
   },
   "outputs": [
    {
     "data": {
      "text/html": [
       "<table class=\"simpletable\">\n",
       "<caption>Statespace Model Results</caption>\n",
       "<tr>\n",
       "  <th>Dep. Variable:</th>           <td>y</td>        <th>  No. Observations:  </th>   <td>2000</td>   \n",
       "</tr>\n",
       "<tr>\n",
       "  <th>Model:</th>           <td>SARIMAX(1, 0, 2)</td> <th>  Log Likelihood     </th> <td>-2829.263</td>\n",
       "</tr>\n",
       "<tr>\n",
       "  <th>Date:</th>            <td>Sat, 11 Aug 2018</td> <th>  AIC                </th> <td>5668.527</td> \n",
       "</tr>\n",
       "<tr>\n",
       "  <th>Time:</th>                <td>21:33:52</td>     <th>  BIC                </th> <td>5696.531</td> \n",
       "</tr>\n",
       "<tr>\n",
       "  <th>Sample:</th>                  <td>0</td>        <th>  HQIC               </th> <td>5678.810</td> \n",
       "</tr>\n",
       "<tr>\n",
       "  <th></th>                      <td> - 2000</td>     <th>                     </th>     <td> </td>    \n",
       "</tr>\n",
       "<tr>\n",
       "  <th>Covariance Type:</th>        <td>opg</td>       <th>                     </th>     <td> </td>    \n",
       "</tr>\n",
       "</table>\n",
       "<table class=\"simpletable\">\n",
       "<tr>\n",
       "      <td></td>         <th>coef</th>     <th>std err</th>      <th>z</th>      <th>P>|z|</th>  <th>[0.025</th>    <th>0.975]</th>  \n",
       "</tr>\n",
       "<tr>\n",
       "  <th>intercept</th> <td>    0.3627</td> <td>    0.047</td> <td>    7.776</td> <td> 0.000</td> <td>    0.271</td> <td>    0.454</td>\n",
       "</tr>\n",
       "<tr>\n",
       "  <th>ar.L1</th>     <td>    0.9200</td> <td>    0.004</td> <td>  216.545</td> <td> 0.000</td> <td>    0.912</td> <td>    0.928</td>\n",
       "</tr>\n",
       "<tr>\n",
       "  <th>ma.L1</th>     <td>    0.0819</td> <td>    0.011</td> <td>    7.494</td> <td> 0.000</td> <td>    0.060</td> <td>    0.103</td>\n",
       "</tr>\n",
       "<tr>\n",
       "  <th>ma.L2</th>     <td>   -0.0786</td> <td>    0.014</td> <td>   -5.718</td> <td> 0.000</td> <td>   -0.106</td> <td>   -0.052</td>\n",
       "</tr>\n",
       "<tr>\n",
       "  <th>sigma2</th>    <td>    0.9905</td> <td>    0.008</td> <td>  117.266</td> <td> 0.000</td> <td>    0.974</td> <td>    1.007</td>\n",
       "</tr>\n",
       "</table>\n",
       "<table class=\"simpletable\">\n",
       "<tr>\n",
       "  <th>Ljung-Box (Q):</th>          <td>110.28</td> <th>  Jarque-Bera (JB):  </th> <td>152481.34</td>\n",
       "</tr>\n",
       "<tr>\n",
       "  <th>Prob(Q):</th>                 <td>0.00</td>  <th>  Prob(JB):          </th>   <td>0.00</td>   \n",
       "</tr>\n",
       "<tr>\n",
       "  <th>Heteroskedasticity (H):</th>  <td>1.21</td>  <th>  Skew:              </th>   <td>-0.54</td>  \n",
       "</tr>\n",
       "<tr>\n",
       "  <th>Prob(H) (two-sided):</th>     <td>0.01</td>  <th>  Kurtosis:          </th>   <td>45.76</td>  \n",
       "</tr>\n",
       "</table><br/><br/>Warnings:<br/>[1] Covariance matrix calculated using the outer product of gradients (complex-step)."
      ],
      "text/plain": [
       "<class 'statsmodels.iolib.summary.Summary'>\n",
       "\"\"\"\n",
       "                           Statespace Model Results                           \n",
       "==============================================================================\n",
       "Dep. Variable:                      y   No. Observations:                 2000\n",
       "Model:               SARIMAX(1, 0, 2)   Log Likelihood               -2829.263\n",
       "Date:                Sat, 11 Aug 2018   AIC                           5668.527\n",
       "Time:                        21:33:52   BIC                           5696.531\n",
       "Sample:                             0   HQIC                          5678.810\n",
       "                               - 2000                                         \n",
       "Covariance Type:                  opg                                         \n",
       "==============================================================================\n",
       "                 coef    std err          z      P>|z|      [0.025      0.975]\n",
       "------------------------------------------------------------------------------\n",
       "intercept      0.3627      0.047      7.776      0.000       0.271       0.454\n",
       "ar.L1          0.9200      0.004    216.545      0.000       0.912       0.928\n",
       "ma.L1          0.0819      0.011      7.494      0.000       0.060       0.103\n",
       "ma.L2         -0.0786      0.014     -5.718      0.000      -0.106      -0.052\n",
       "sigma2         0.9905      0.008    117.266      0.000       0.974       1.007\n",
       "===================================================================================\n",
       "Ljung-Box (Q):                      110.28   Jarque-Bera (JB):            152481.34\n",
       "Prob(Q):                              0.00   Prob(JB):                         0.00\n",
       "Heteroskedasticity (H):               1.21   Skew:                            -0.54\n",
       "Prob(H) (two-sided):                  0.01   Kurtosis:                        45.76\n",
       "===================================================================================\n",
       "\n",
       "Warnings:\n",
       "[1] Covariance matrix calculated using the outer product of gradients (complex-step).\n",
       "\"\"\""
      ]
     },
     "execution_count": 30,
     "metadata": {},
     "output_type": "execute_result"
    }
   ],
   "source": [
    "arima_stepwise.summary()"
   ]
  },
  {
   "cell_type": "markdown",
   "metadata": {},
   "source": [
    "# Prophet"
   ]
  },
  {
   "cell_type": "code",
   "execution_count": 37,
   "metadata": {
    "ExecuteTime": {
     "end_time": "2018-08-12T15:18:31.695223Z",
     "start_time": "2018-08-12T15:18:30.766032Z"
    }
   },
   "outputs": [
    {
     "name": "stderr",
     "output_type": "stream",
     "text": [
      "INFO:fbprophet.forecaster:Disabling yearly seasonality. Run prophet with yearly_seasonality=True to override this.\n",
      "/usr/lib/python3.6/site-packages/pystan/misc.py:399: FutureWarning: Conversion of the second argument of issubdtype from `float` to `np.floating` is deprecated. In future, it will be treated as `np.float64 == np.dtype(float).type`.\n",
      "  elif np.issubdtype(np.asarray(v).dtype, float):\n"
     ]
    }
   ],
   "source": [
    "pdf = so2[:3000].reset_index()\n",
    "pdf = pdf.rename(columns={'Timestamp': 'ds', 'SO2': 'y'})\n",
    "\n",
    "prophet = Prophet()\n",
    "prophet_fit = prophet.fit(df=pdf)\n",
    "future = prophet.make_future_dataframe(50)[-50:]"
   ]
  },
  {
   "cell_type": "code",
   "execution_count": 38,
   "metadata": {
    "ExecuteTime": {
     "end_time": "2018-08-12T15:18:42.578948Z",
     "start_time": "2018-08-12T15:18:32.075331Z"
    }
   },
   "outputs": [],
   "source": [
    "pred = prophet.predict(future)"
   ]
  },
  {
   "cell_type": "code",
   "execution_count": 39,
   "metadata": {
    "ExecuteTime": {
     "end_time": "2018-08-12T15:18:42.970698Z",
     "start_time": "2018-08-12T15:18:42.964786Z"
    }
   },
   "outputs": [
    {
     "name": "stdout",
     "output_type": "stream",
     "text": [
      "3050   3000\n"
     ]
    }
   ],
   "source": [
    "print(len(pred), ' ', len(pdf))"
   ]
  },
  {
   "cell_type": "code",
   "execution_count": 40,
   "metadata": {
    "ExecuteTime": {
     "end_time": "2018-08-12T15:18:43.375670Z",
     "start_time": "2018-08-12T15:18:43.362799Z"
    }
   },
   "outputs": [
    {
     "name": "stdout",
     "output_type": "stream",
     "text": [
      "mae 0.8047518265279892\n",
      "mse 1.1836808252591968\n"
     ]
    }
   ],
   "source": [
    "print('mae ' + str(_calc_mae(so2[3000:3050], pred['yhat'])))\n",
    "print('mse ' + str(_calc_mse(so2[3000:3050], pred['yhat'])))"
   ]
  },
  {
   "cell_type": "code",
   "execution_count": null,
   "metadata": {},
   "outputs": [],
   "source": []
  }
 ],
 "metadata": {
  "kernelspec": {
   "display_name": "Python 3",
   "language": "python",
   "name": "python3"
  },
  "language_info": {
   "codemirror_mode": {
    "name": "ipython",
    "version": 3
   },
   "file_extension": ".py",
   "mimetype": "text/x-python",
   "name": "python",
   "nbconvert_exporter": "python",
   "pygments_lexer": "ipython3",
   "version": "3.6.6"
  },
  "varInspector": {
   "cols": {
    "lenName": 16,
    "lenType": 16,
    "lenVar": 40
   },
   "kernels_config": {
    "python": {
     "delete_cmd_postfix": "",
     "delete_cmd_prefix": "del ",
     "library": "var_list.py",
     "varRefreshCmd": "print(var_dic_list())"
    },
    "r": {
     "delete_cmd_postfix": ") ",
     "delete_cmd_prefix": "rm(",
     "library": "var_list.r",
     "varRefreshCmd": "cat(var_dic_list()) "
    }
   },
   "position": {
    "height": "482px",
    "left": "1230px",
    "right": "20px",
    "top": "120px",
    "width": "350px"
   },
   "types_to_exclude": [
    "module",
    "function",
    "builtin_function_or_method",
    "instance",
    "_Feature"
   ],
   "window_display": false
  }
 },
 "nbformat": 4,
 "nbformat_minor": 2
}
