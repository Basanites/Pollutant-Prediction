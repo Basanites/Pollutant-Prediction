{
 "cells": [
  {
   "cell_type": "code",
   "execution_count": null,
   "metadata": {
    "ExecuteTime": {
     "end_time": "2018-06-23T13:34:32.983028Z",
     "start_time": "2018-06-23T13:34:03.248976Z"
    },
    "init_cell": true,
    "tags": [
     "#imports"
    ]
   },
   "outputs": [],
   "source": [
    "import glob\n",
    "import math\n",
    "import os\n",
    "\n",
    "import matplotlib.pyplot as plt\n",
    "import numpy as np\n",
    "import pandas as pd\n",
    "from fbprophet import Prophet\n",
    "from sklearn import neighbors, ensemble, tree, metrics\n",
    "from statsmodels.graphics import tsaplots\n",
    "from statsmodels.tsa.arima_model import ARIMA\n",
    "from statsmodels.tsa.holtwinters import ExponentialSmoothing\n",
    "from statsmodels.tsa.seasonal import *\n",
    "\n",
    "%matplotlib notebook\n",
    "\n",
    "package_dir = os.getcwd()\n",
    "\n",
    "print(package_dir)"
   ]
  },
  {
   "cell_type": "code",
   "execution_count": null,
   "metadata": {
    "ExecuteTime": {
     "end_time": "2018-06-06T16:31:19.228125Z",
     "start_time": "2018-06-06T16:28:19.784646Z"
    },
    "tags": [
     "#leipzig"
    ]
   },
   "outputs": [],
   "source": [
    "df = pd.DataFrame()\n",
    "\n",
    "print('Loading CSVs\\n')\n",
    "for file in glob.glob('res/*.csv'):\n",
    "    # read single file, index on StationEoI and DatetimeEnd\n",
    "    read = pd.read_csv(file,\n",
    "                 encoding=\"utf-16\", parse_dates=[13, 14],\n",
    "                 infer_datetime_format=True,\n",
    "                 index_col=[4, 14])\n",
    "    # drop 'bulk' files because they have different averaging\n",
    "    bulks = read.SamplingPoint.str.lower().str.contains('bulk')\n",
    "    clean = read[~bulks].copy()\n",
    "    \n",
    "    # ignore unnecessary columns\n",
    "    clean.drop(columns=['Countrycode', 'Namespace', 'AirQualityNetwork',\n",
    "                 'AirQualityStation', 'SamplingPoint', 'Sample',\n",
    "                 'SamplingProcess', 'AirPollutantCode',\n",
    "                 'DatetimeBegin', 'Validity', 'Verification',\n",
    "                 'AveragingTime'],\n",
    "        inplace=True)\n",
    "    \n",
    "    # make pollutant a column for better memory usage\n",
    "    clean = clean.pivot(columns='AirPollutant')\n",
    "    df = pd.concat([df, clean])\n",
    "\n",
    "print('\\nFinished Loading')\n",
    "print('Merging')\n",
    "\n",
    "# make names shorter    \n",
    "df.index.names = ['StationEoI', 'Timestamp']\n",
    "df.columns.names = [None, 'Pollutant']\n",
    "df = df.sort_index()\n",
    "df = df.groupby(level=[0,1]).first()\n",
    "\n",
    "\n",
    "print('Finished merging')"
   ]
  },
  {
   "cell_type": "code",
   "execution_count": 2,
   "metadata": {
    "ExecuteTime": {
     "end_time": "2018-06-23T13:34:48.821951Z",
     "start_time": "2018-06-23T13:34:32.987028Z"
    },
    "init_cell": true,
    "tags": [
     "#leipzig2013"
    ]
   },
   "outputs": [],
   "source": [
    "df = pd.DataFrame()\n",
    "\n",
    "for file in glob.glob('res/*2013_timeseries.csv'):\n",
    "    # read single file, index on StationEoI and DatetimeEnd\n",
    "    read = pd.read_csv(file,\n",
    "                 encoding=\"utf-16\", parse_dates=[13, 14],\n",
    "                 infer_datetime_format=True,\n",
    "                 index_col=[4,14])\n",
    "    # drop 'bulk' files because they have different averaging\n",
    "    bulks = read.SamplingPoint.str.lower().str.contains('bulk')\n",
    "    clean = read[~bulks].copy()\n",
    "    \n",
    "    # ignore unnecessary columns\n",
    "    clean.drop(columns=['Countrycode', 'Namespace', 'AirQualityNetwork',\n",
    "                 'AirQualityStation', 'SamplingPoint', 'Sample',\n",
    "                 'SamplingProcess', 'AirPollutantCode',\n",
    "                 'DatetimeBegin', 'Validity', 'Verification',\n",
    "                 'AveragingTime'],\n",
    "        inplace=True)\n",
    "    \n",
    "    pivoted = clean.pivot(columns='AirPollutant')\n",
    "    \n",
    "    df = pd.concat([df, pivoted])\n",
    "\n",
    "# make pollutant a column for better memory usage\n",
    "#df = df.pivot(columns='AirPollutant')\n",
    "\n",
    "# make names shorter    \n",
    "df.index.names = ['StationEoI', 'Timestamp']\n",
    "df.columns.names = [None, 'Pollutant']\n",
    "\n",
    "df = df.sort_index()\n",
    "df = df.groupby(level=[0,1]).first()\n",
    "\n",
    "df = df.interpolate()"
   ]
  },
  {
   "cell_type": "code",
   "execution_count": null,
   "metadata": {
    "ExecuteTime": {
     "end_time": "2018-06-07T11:08:35.867986Z",
     "start_time": "2018-06-07T11:08:35.840994Z"
    }
   },
   "outputs": [],
   "source": [
    "df.loc['DESN025'].Concentration.count()"
   ]
  },
  {
   "cell_type": "code",
   "execution_count": null,
   "metadata": {
    "ExecuteTime": {
     "end_time": "2018-06-10T15:47:38.752097Z",
     "start_time": "2018-06-10T15:47:38.464120Z"
    },
    "tags": [
     "#tsa_acf"
    ]
   },
   "outputs": [],
   "source": [
    "acf = tsaplots.plot_acf(df.loc['DESN025'].Concentration.NO, lags=700)"
   ]
  },
  {
   "cell_type": "code",
   "execution_count": null,
   "metadata": {
    "ExecuteTime": {
     "end_time": "2018-06-10T15:47:26.335847Z",
     "start_time": "2018-06-10T15:47:25.934811Z"
    },
    "tags": [
     "#pd_acf"
    ]
   },
   "outputs": [],
   "source": [
    "plt.figure(figsize=(9, 4))\n",
    "\n",
    "pd.plotting.autocorrelation_plot(df.loc['DESN025'].Concentration.NO)\n",
    "plt.show()"
   ]
  },
  {
   "cell_type": "code",
   "execution_count": null,
   "metadata": {
    "ExecuteTime": {
     "end_time": "2018-06-10T15:48:14.153505Z",
     "start_time": "2018-06-10T15:48:03.392379Z"
    },
    "tags": [
     "#tsa_pacf"
    ]
   },
   "outputs": [],
   "source": [
    "pacf = tsaplots.plot_pacf(df.loc['DESN025'].Concentration.NO, lags=700)"
   ]
  },
  {
   "cell_type": "code",
   "execution_count": null,
   "metadata": {
    "ExecuteTime": {
     "end_time": "2018-06-13T21:27:56.430156Z",
     "start_time": "2018-06-13T21:27:56.221161Z"
    },
    "code_folding": [],
    "tags": [
     "#lags"
    ]
   },
   "outputs": [],
   "source": [
    "lagged = pd.DataFrame()\n",
    "\n",
    "for i in range(1,8):\n",
    "    lagged['lag {0}d'.format(i)] = df.loc['DESN025'].Concentration.NO.shift(i, freq='H')\n",
    "    \n",
    "lagged = lagged.interpolate()\n",
    "\n",
    "lagged"
   ]
  },
  {
   "cell_type": "code",
   "execution_count": null,
   "metadata": {
    "ExecuteTime": {
     "end_time": "2018-06-13T21:27:56.504221Z",
     "start_time": "2018-06-13T21:27:56.433153Z"
    },
    "tags": [
     "#learn_data",
     "=>lags"
    ]
   },
   "outputs": [],
   "source": [
    "asdf = '2013-12-10'\n",
    "end = '2013-10-01'\n",
    "x_train = lagged[end:asdf].interpolate()\n",
    "y_train = df.loc['DESN025'].Concentration.NO[end:asdf].interpolate()\n",
    "index_train = df.loc['DESN025'].Concentration.NO[end:asdf].index.values\n",
    "\n",
    "x_test = lagged[asdf:].iloc[:-1]\n",
    "y_test = df.loc['DESN025'].Concentration.NO[asdf:].interpolate()\n",
    "index_test = df.loc['DESN025'].Concentration.NO[asdf:].index.values\n",
    "\n",
    "y_train_diff = df.loc['DESN025'].Concentration.NO[end:asdf].interpolate().diff().replace([np.inf, -np.inf, np.nan], 0)\n",
    "y_test_diff = df.loc['DESN025'].Concentration.NO[asdf:].interpolate().diff().replace([np.inf, -np.inf, np.nan], 0)"
   ]
  },
  {
   "cell_type": "code",
   "execution_count": null,
   "metadata": {
    "ExecuteTime": {
     "end_time": "2018-06-12T18:25:41.595208Z",
     "start_time": "2018-06-12T18:25:41.505218Z"
    },
    "code_folding": [],
    "tags": [
     "#knn",
     "=>learn_data"
    ]
   },
   "outputs": [],
   "source": [
    "# plt.figure(figsize=(20,10))\n",
    "# #############################################################################\n",
    "# Fit regression model\n",
    "n_neighbors = 10\n",
    "\n",
    "plt.figure(figsize=(9, 4))\n",
    "#plt.scatter(index_train, y_train, c='k', label='train')\n",
    "plt.scatter(index_test, y_test, c='r', label='test')\n",
    "\n",
    "colors = ['g', 'c', 'y', 'orange', 'b']\n",
    "solutions = {}\n",
    "\n",
    "for i, weights in enumerate(['uniform', 'distance']):\n",
    "    knn = neighbors.KNeighborsRegressor(n_neighbors, weights=weights)\n",
    "    knn_model = knn.fit(x_train, y_train)\n",
    "    y_ = knn_model.predict(x_test)\n",
    "    solutions['knn %s' % weights] = y_\n",
    "\n",
    "    plt.plot(index_test, y_, '.-', c=colors[i], label=weights)\n",
    "    plt.axis('tight')\n",
    "    plt.legend()\n",
    "    plt.title(\"KNeighborsRegressor\")\n",
    "    print('{0} mae: {1}\\tmse: {2}'.format(weights, \n",
    "                                          metrics.mean_absolute_error(y_test, y_),\n",
    "                                          metrics.mean_squared_error(y_test, y_)))"
   ]
  },
  {
   "cell_type": "code",
   "execution_count": null,
   "metadata": {
    "ExecuteTime": {
     "end_time": "2018-06-12T18:25:47.396897Z",
     "start_time": "2018-06-12T18:25:47.244905Z"
    },
    "tags": [
     "#dtree",
     "=>learn_data"
    ]
   },
   "outputs": [],
   "source": [
    "plt.figure(figsize=(9, 4))\n",
    "#plt.scatter(index_train, y_train, c='k', label='train')\n",
    "plt.scatter(index_test, y_test, c='r', label='test')\n",
    "\n",
    "colors = ['g', 'c', 'y', 'orange', 'b']\n",
    "\n",
    "########################################################################\n",
    "for i, depth in enumerate([2, 3, 5, 10, 15]):\n",
    "    dtree = tree.DecisionTreeRegressor(max_depth=depth)\n",
    "    dtree_model = dtree.fit(x_train, y_train)\n",
    "    y_ = dtree_model.predict(x_test)\n",
    "    solutions['dtree depth %s' % depth] = y_\n",
    "\n",
    "    plt.plot(index_test, y_, '.-', c=colors[i], label='depth {0}'.format(depth))\n",
    "    plt.axis('tight')\n",
    "    plt.legend()\n",
    "    plt.title(\"DTreeRegression\")\n",
    "    print('{0} mae: {1}\\tmse: {2}'.format(depth, \n",
    "                                          metrics.mean_absolute_error(y_test, y_),\n",
    "                                          metrics.mean_squared_error(y_test, y_)))"
   ]
  },
  {
   "cell_type": "code",
   "execution_count": null,
   "metadata": {
    "ExecuteTime": {
     "end_time": "2018-06-12T18:26:03.521668Z",
     "start_time": "2018-06-12T18:26:00.783814Z"
    },
    "tags": [
     "#rforest",
     "=>learn_data"
    ]
   },
   "outputs": [],
   "source": [
    "plt.figure(figsize=(9, 4))\n",
    "#plt.scatter(index_train, y_train, c='k', label='train')\n",
    "plt.scatter(index_test, y_test, c='r', label='test')\n",
    "\n",
    "colors = ['g', 'c', 'y', 'orange', 'b']\n",
    "\n",
    "########################################################################\n",
    "for i, estimators in enumerate([5, 10, 20, 50, 100]):\n",
    "    rforest = ensemble.RandomForestRegressor(n_estimators=estimators)\n",
    "    rforest_model = rforest.fit(x_train, y_train)\n",
    "    y_ = rforest_model.predict(x_test)\n",
    "    solutions['rforest estimators {0}'.format(estimators)] = y_\n",
    "\n",
    "    plt.plot(index_test, y_, '.-', c=colors[i], label='{0} estimators'.format(estimators))\n",
    "    plt.axis('tight')\n",
    "    plt.legend()\n",
    "    plt.title('Random Forest Regression')\n",
    "    print('{0} mae: {1}\\tmse: {2}'.format(estimators, \n",
    "                                          metrics.mean_absolute_error(y_test, y_),\n",
    "                                          metrics.mean_squared_error(y_test, y_)))"
   ]
  },
  {
   "cell_type": "code",
   "execution_count": null,
   "metadata": {
    "ExecuteTime": {
     "end_time": "2018-06-10T16:30:37.827937Z",
     "start_time": "2018-06-10T16:03:32.871914Z"
    },
    "tags": [
     "#arima"
    ]
   },
   "outputs": [],
   "source": [
    "## not yet working or running way, way, way too long\n",
    "\n",
    "arima = ARIMA(df.loc['DESN025'].Concentration.NO, order=(25,1,0))\n",
    "arima_model = arima.fit(disp=0)\n",
    "print(arima_model.summary())\n",
    "# plot residual errors\n",
    "residuals = DataFrame(arima_model.resid)\n",
    "residuals.plot()\n",
    "plt.show()\n",
    "residuals.plot(kind='kde')\n",
    "plt.show()\n",
    "print(residuals.describe())"
   ]
  },
  {
   "cell_type": "code",
   "execution_count": null,
   "metadata": {
    "ExecuteTime": {
     "end_time": "2018-06-13T21:28:12.311584Z",
     "start_time": "2018-06-13T21:27:56.507150Z"
    },
    "tags": [
     "#ets",
     "=>learn_data"
    ]
   },
   "outputs": [],
   "source": [
    "ets = ExponentialSmoothing(y_train_diff, trend='add', seasonal='add', seasonal_periods=int(len(y_train)/(7*24)))\n",
    "ets_model = ets.fit(optimized=True)\n",
    "ets_forecast = ets_model.forecast(len(y_test))\n",
    "\n",
    "plt.scatter(index_train, y_train_diff, c='k', label='train')\n",
    "plt.scatter(index_test, y_test_diff, c='r', label='test')\n",
    "plt.plot(index_train, ets_model.fittedvalues, '.-', c='g', label='fit')\n",
    "plt.plot(index_test, ets_forecast, c='y', label='forecast')\n",
    "\n",
    "print('mae: {}'.format(metrics.mean_absolute_error(y_test_diff, ets_forecast)))\n",
    "print(ets_model.params)"
   ]
  },
  {
   "cell_type": "code",
   "execution_count": null,
   "metadata": {
    "ExecuteTime": {
     "end_time": "2018-06-12T18:24:18.920131Z",
     "start_time": "2018-06-12T18:24:18.546152Z"
    }
   },
   "outputs": [],
   "source": [
    "decompfreq = 24\n",
    "decomposition = seasonal_decompose(df.loc['DESN025'].Concentration.NO, freq=decompfreq, model='additive').plot()"
   ]
  },
  {
   "cell_type": "code",
   "execution_count": null,
   "metadata": {},
   "outputs": [],
   "source": []
  }
 ],
 "metadata": {
  "celltoolbar": "Tags",
  "kernelspec": {
   "display_name": "Python 3",
   "language": "python",
   "name": "python3"
  },
  "language_info": {
   "codemirror_mode": {
    "name": "ipython",
    "version": 3
   },
   "file_extension": ".py",
   "mimetype": "text/x-python",
   "name": "python",
   "nbconvert_exporter": "python",
   "pygments_lexer": "ipython3",
   "version": "3.6.5"
  },
  "notify_time": "5",
  "varInspector": {
   "cols": {
    "lenName": 16.0,
    "lenType": 16.0,
    "lenVar": 40.0
   },
   "kernels_config": {
    "python": {
     "delete_cmd_postfix": "",
     "delete_cmd_prefix": "del ",
     "library": "var_list.py",
     "varRefreshCmd": "print(var_dic_list())"
    },
    "r": {
     "delete_cmd_postfix": ") ",
     "delete_cmd_prefix": "rm(",
     "library": "var_list.r",
     "varRefreshCmd": "cat(var_dic_list()) "
    }
   },
   "position": {
    "height": "309px",
    "left": "1057.77px",
    "right": "20px",
    "top": "129px",
    "width": "350px"
   },
   "types_to_exclude": [
    "module",
    "function",
    "builtin_function_or_method",
    "instance",
    "_Feature"
   ],
   "window_display": false
  }
 },
 "nbformat": 4,
 "nbformat_minor": 1
}
