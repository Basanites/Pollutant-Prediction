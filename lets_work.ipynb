{
 "cells": [
  {
   "cell_type": "code",
   "execution_count": 1,
   "metadata": {
    "collapsed": true
   },
   "outputs": [
    {
     "name": "stdout",
     "output_type": "stream",
     "text": [
      "/home/sebastian/Programming/Bachelorthesis\n"
     ]
    }
   ],
   "source": [
    "import pandas as pd\n",
    "import matplotlib.pyplot as plt\n",
    "import numpy as np\n",
    "from fbprophet import Prophet\n",
    "import math\n",
    "import os\n",
    "import glob\n",
    "%matplotlib inline\n",
    "\n",
    "package_dir = os.getcwd()\n",
    "\n",
    "print(package_dir)\n"
   ]
  },
  {
   "cell_type": "code",
   "execution_count": 44,
   "metadata": {},
   "outputs": [
    {
     "name": "stdout",
     "output_type": "stream",
     "text": [
      "Loading CSVs\n\n"
     ]
    },
    {
     "name": "stdout",
     "output_type": "stream",
     "text": [
      "\nFinished Loading\nSorting\n"
     ]
    },
    {
     "name": "stdout",
     "output_type": "stream",
     "text": [
      "Finished sorting\n"
     ]
    }
   ],
   "source": [
    "df = pd.DataFrame()\n",
    "\n",
    "print('Loading CSVs\\n')\n",
    "for file in glob.glob('res/*.csv'):\n",
    "    read = pd.read_csv(file,\n",
    "                 encoding=\"utf-16\", parse_dates=[13, 14],\n",
    "                 infer_datetime_format=True,\n",
    "                 index_col=[4, 8, 13])\n",
    "    bulks = read.SamplingPoint.str.lower().str.contains('bulk')\n",
    "    df = pd.concat([df, read[~bulks]])\n",
    "print('\\nFinished Loading')\n",
    "print('Sorting')\n",
    "df = df.sort_index()\n",
    "print('Finished sorting')"
   ]
  },
  {
   "cell_type": "code",
   "execution_count": null,
   "metadata": {},
   "outputs": [
    {
     "name": "stdout",
     "output_type": "stream",
     "text": [
      "SPO.DE_DESN082_O3_dataGroup1          46318\nSPO.DE_DESN077_NO_dataGroup1          46242\nSPO.DE_DESN059_NO_dataGroup1          46210\nSPO.DE_DESN059_O3_dataGroup1          46161\nSPO.DE_DESN025_NO_dataGroup1          46093\nSPO.DE_DESN025_PM1_dataGroup1         45983\nSPO.DE_DESN025_SO2_dataGroup1         45799\nSPO.DE_DESN059_PM1_dataGroup1         45745\nSPO.DE_DESN077_PM1_dataGroup1         45628\nSPO.DE_DESN059_NOx_dataGroup1         44242\nSPO.DE_DESN077_NOx_dataGroup1         44189\nSPO.DE_DESN025_NOx_dataGroup1         44090\nSPO.DE_DESN025_CHB_dataGroup1         41804\nSPO.DE_DESN077_NO2_dataGroup1         37500\nSPO.DE_DESN059_NO2_dataGroup1         37495\nSPO.DE_DESN025_NO2_dataGroup1         37399\nSPO.DE_DESN025_CHT_dataGroup1         31400\nSPO.DE_DESN059_PM1_dataGroup2          1849\nSPO.DE_DESN025_PM1_dataGroup2          1848\nSPO.DE_DESN077_PM1_dataGroup2          1845\nSPO.DE_DESN059_PM2_dataGroup2          1830\nSPO.DE_DESN025_PM2_dataGroup2          1829\nSPO.DE_DESN025_PM10_Dba_dataGroup3      485\nSPO.DE_DESN025_PM10_BjF_dataGroup3      485\nSPO.DE_DESN025_PM10_BaA_dataGroup3      485\nSPO.DE_DESN025_PM10_BkF_dataGroup3      485\nSPO.DE_DESN025_PM10_Inp_dataGroup3      485\nSPO.DE_DESN025_PM10_BaP_dataGroup3      485\nSPO.DE_DESN025_PM10_BbF_dataGroup3      485\nSPO.DE_DESN077_PM10_BjF_dataGroup3      483\nSPO.DE_DESN077_PM10_BbF_dataGroup3      483\nSPO.DE_DESN077_PM10_Inp_dataGroup3      483\nSPO.DE_DESN077_PM10_BaP_dataGroup3      483\nSPO.DE_DESN077_PM10_BaA_dataGroup3      483\nSPO.DE_DESN077_PM10_BkF_dataGroup3      483\nSPO.DE_DESN077_PM10_Dba_dataGroup3      483\nSPO.DE_DESN077_PM10_As_dataGroup3       243\nSPO.DE_DESN025_PM10_Cd_dataGroup3       243\nSPO.DE_DESN025_PM10_As_dataGroup3       243\nSPO.DE_DESN077_PM10_Cd_dataGroup3       243\nSPO.DE_DESN025_PM10_Pb_dataGroup3       243\nSPO.DE_DESN025_PM10_Ni_dataGroup3       233\nSPO.DE_DESN077_PM10_Ni_dataGroup3       233\nSPO.DE_DESN077_PM10_eC_dataGroup3       182\nSPO.DE_DESN025_PM10_eC_dataGroup3       182\nSPO.DE_DESN025_PM10_oC_dataGroup3       182\nSPO.DE_DESN077_PM10_oC_dataGroup3       182\nSPO.DE_DESN059_PM10_eC_dataGroup3       181\nSPO.DE_DESN059_PM10_oC_dataGroup3       181\nName: SamplingPoint, dtype: int64\n"
     ]
    }
   ],
   "source": [
    "print(df.head())"
   ]
  },
  {
   "cell_type": "code",
   "execution_count": 1,
   "metadata": {},
   "outputs": [],
   "source": [
    ""
   ]
  },
  {
   "cell_type": "code",
   "execution_count": 1,
   "metadata": {},
   "outputs": [],
   "source": [
    ""
   ]
  },
  {
   "cell_type": "code",
   "execution_count": null,
   "metadata": {},
   "outputs": [],
   "source": []
  }
 ],
 "metadata": {
  "kernelspec": {
   "display_name": "Python 2",
   "language": "python",
   "name": "python2"
  },
  "language_info": {
   "codemirror_mode": {
    "name": "ipython",
    "version": 2
   },
   "file_extension": ".py",
   "mimetype": "text/x-python",
   "name": "python",
   "nbconvert_exporter": "python",
   "pygments_lexer": "ipython2",
   "version": "2.7.6"
  }
 },
 "nbformat": 4,
 "nbformat_minor": 0
}
