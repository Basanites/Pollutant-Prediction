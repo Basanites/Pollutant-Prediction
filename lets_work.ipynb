{
 "cells": [
  {
   "cell_type": "code",
   "execution_count": null,
   "metadata": {},
   "outputs": [],
   "source": [
    "import pandas as pd\n",
    "import matplotlib.pyplot as plt\n",
    "import numpy as np\n",
    "from fbprophet import Prophet\n",
    "from sklearn import neighbors\n",
    "import math\n",
    "import os\n",
    "import glob\n",
    "%matplotlib notebook\n",
    "\n",
    "package_dir = os.getcwd()\n",
    "\n",
    "print(package_dir)\n"
   ]
  },
  {
   "cell_type": "code",
   "execution_count": null,
   "metadata": {},
   "outputs": [],
   "source": [
    "df = pd.DataFrame()\n",
    "\n",
    "print('Loading CSVs\\n')\n",
    "for file in glob.glob('res/*.csv'):\n",
    "    # read single file, index on StationEoI and DatetimeEnd\n",
    "    read = pd.read_csv(file,\n",
    "                 encoding=\"utf-16\", parse_dates=[13, 14],\n",
    "                 infer_datetime_format=True,\n",
    "                 index_col=[4, 14])\n",
    "    # drop 'bulk' files because they have different averaging\n",
    "    bulks = read.SamplingPoint.str.lower().str.contains('bulk')\n",
    "    clean = read[~bulks].copy()\n",
    "    \n",
    "    # ignore unnecessary columns\n",
    "    clean.drop(columns=['Countrycode', 'Namespace', 'AirQualityNetwork',\n",
    "                 'AirQualityStation', 'SamplingPoint', 'Sample',\n",
    "                 'SamplingProcess', 'AirPollutantCode',\n",
    "                 'DatetimeBegin', 'Validity', 'Verification',\n",
    "                 'AveragingTime'],\n",
    "        inplace=True)\n",
    "    \n",
    "    # make pollutant a column for better memory usage\n",
    "    clean = clean.pivot(columns='AirPollutant')\n",
    "    df = pd.concat([df, clean])\n",
    "\n",
    "print('\\nFinished Loading')\n",
    "print('Merging')\n",
    "\n",
    "# make names shorter    \n",
    "df.index.names = ['StationEoI', 'Timestamp']\n",
    "df.columns.names = [None, 'Pollutant']\n",
    "df = df.sort_index()\n",
    "df = df.groupby(level=[0,1]).first()\n",
    "\n",
    "\n",
    "print('Finished merging')"
   ]
  },
  {
   "cell_type": "code",
   "execution_count": null,
   "metadata": {},
   "outputs": [],
   "source": [
    "df = pd.DataFrame()\n",
    "\n",
    "for file in glob.glob('res/*2013_timeseries.csv'):\n",
    "    # read single file, index on StationEoI and DatetimeEnd\n",
    "    read = pd.read_csv(file,\n",
    "                 encoding=\"utf-16\", parse_dates=[13, 14],\n",
    "                 infer_datetime_format=True,\n",
    "                 index_col=[4,14])\n",
    "    # drop 'bulk' files because they have different averaging\n",
    "    bulks = read.SamplingPoint.str.lower().str.contains('bulk')\n",
    "    clean = read[~bulks].copy()\n",
    "    \n",
    "    # ignore unnecessary columns\n",
    "    clean.drop(columns=['Countrycode', 'Namespace', 'AirQualityNetwork',\n",
    "                 'AirQualityStation', 'SamplingPoint', 'Sample',\n",
    "                 'SamplingProcess', 'AirPollutantCode',\n",
    "                 'DatetimeBegin', 'Validity', 'Verification',\n",
    "                 'AveragingTime'],\n",
    "        inplace=True)\n",
    "    \n",
    "    pivoted = clean.pivot(columns='AirPollutant')\n",
    "    \n",
    "    df = pd.concat([df, pivoted])\n",
    "\n",
    "# make pollutant a column for better memory usage\n",
    "#df = df.pivot(columns='AirPollutant')\n",
    "\n",
    "# make names shorter    \n",
    "df.index.names = ['StationEoI', 'Timestamp']\n",
    "df.columns.names = [None, 'Pollutant']\n",
    "\n",
    "df = df.sort_index()\n",
    "df = df.groupby(level=[0,1]).first()"
   ]
  },
  {
   "cell_type": "code",
   "execution_count": null,
   "metadata": {},
   "outputs": [],
   "source": [
    "df.loc['DESN025'].Concentration.count()"
   ]
  },
  {
   "cell_type": "code",
   "execution_count": null,
   "metadata": {
    "code_folding": []
   },
   "outputs": [],
   "source": [
    "asdf = '2013-12-10'\n",
    "end = '2013-10-01'\n",
    "x_train = df.loc['DESN025'].Concentration.NO[end:asdf].dropna().index.values.reshape(-1,1)\n",
    "y_train = df.loc['DESN025'].Concentration.NO[end:asdf].dropna()\n",
    "\n",
    "x_test = df.loc['DESN025'].Concentration.NO[end:].dropna().index.values.reshape(-1,1)\n",
    "y_test = df.loc['DESN025'].Concentration.NO[end:].dropna()\n",
    "\n",
    "\n",
    "# plt.figure(figsize=(20,10))\n",
    "# #############################################################################\n",
    "# Fit regression model\n",
    "n_neighbors = 5\n",
    "\n",
    "for i, weights in enumerate(['uniform', 'distance']):\n",
    "    knn = neighbors.KNeighborsRegressor(n_neighbors, weights=weights)\n",
    "    knn_model = knn.fit(x_train, y_train)\n",
    "    y_ = knn_model.predict(x_test)\n",
    "\n",
    "    plt.subplot(2, 1, i + 1)\n",
    "    plt.scatter(x_train, y_train, c='k', label='train')\n",
    "    plt.scatter(df.loc['DESN025'].Concentration.NO[asdf:].dropna().index.values.reshape(-1,1),\n",
    "                df.loc['DESN025'].Concentration.NO[asdf:].dropna(), c='r', label='test')\n",
    "    plt.plot(x_test, y_, c='g', label='prediction')\n",
    "    plt.axis('tight')\n",
    "    plt.legend()\n",
    "    plt.title(\"KNeighborsRegressor (k = %i, weights = '%s')\" % (n_neighbors,\n",
    "                                                                weights))\n",
    "    "
   ]
  },
  {
   "cell_type": "code",
   "execution_count": null,
   "metadata": {},
   "outputs": [],
   "source": [
    "predict_df = pd.DataFrame(index=df.loc['DESN025'].Concentration.NO[end:].dropna().index.values, data={'predictions': y_})"
   ]
  },
  {
   "cell_type": "code",
   "execution_count": null,
   "metadata": {},
   "outputs": [],
   "source": [
    "predict_df['2013-12-10':'2013-12-11']"
   ]
  },
  {
   "cell_type": "code",
   "execution_count": null,
   "metadata": {},
   "outputs": [],
   "source": []
  }
 ],
 "metadata": {
  "kernelspec": {
   "display_name": "Python 3",
   "language": "python",
   "name": "python3"
  },
  "notify_time": "5",
  "varInspector": {
   "cols": {
    "lenName": 16,
    "lenType": 16,
    "lenVar": 40
   },
   "kernels_config": {
    "python": {
     "delete_cmd_postfix": "",
     "delete_cmd_prefix": "del ",
     "library": "var_list.py",
     "varRefreshCmd": "print(var_dic_list())"
    },
    "r": {
     "delete_cmd_postfix": ") ",
     "delete_cmd_prefix": "rm(",
     "library": "var_list.r",
     "varRefreshCmd": "cat(var_dic_list()) "
    }
   },
   "types_to_exclude": [
    "module",
    "function",
    "builtin_function_or_method",
    "instance",
    "_Feature"
   ],
   "window_display": false
  }
 },
 "nbformat": 4,
 "nbformat_minor": 1
}
