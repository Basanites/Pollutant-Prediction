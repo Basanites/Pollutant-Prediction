{
 "cells": [
  {
   "cell_type": "code",
   "execution_count": 1,
   "metadata": {
    "collapsed": true
   },
   "outputs": [
    {
     "name": "stdout",
     "output_type": "stream",
     "text": [
      "/home/sebastian/Programming/Bachelorthesis\n"
     ]
    }
   ],
   "source": [
    "import pandas as pd\n",
    "import matplotlib.pyplot as plt\n",
    "import numpy as np\n",
    "from fbprophet import Prophet\n",
    "import math\n",
    "import os\n",
    "import glob\n",
    "%matplotlib inline\n",
    "\n",
    "package_dir = os.getcwd()\n",
    "\n",
    "print(package_dir)\n"
   ]
  },
  {
   "cell_type": "code",
   "execution_count": 83,
   "metadata": {},
   "outputs": [
    {
     "name": "stdout",
     "output_type": "stream",
     "text": [
      "Loading CSVs\n\n"
     ]
    },
    {
     "name": "stderr",
     "output_type": "stream",
     "text": [
      "/usr/lib/python3.6/site-packages/ipykernel_launcher.py:20: SettingWithCopyWarning: \nA value is trying to be set on a copy of a slice from a DataFrame\n\nSee the caveats in the documentation: http://pandas.pydata.org/pandas-docs/stable/indexing.html#indexing-view-versus-copy\n"
     ]
    },
    {
     "name": "stdout",
     "output_type": "stream",
     "text": [
      "\nFinished Loading\nSorting\n"
     ]
    },
    {
     "name": "stdout",
     "output_type": "stream",
     "text": [
      "Finished sorting\n"
     ]
    }
   ],
   "source": [
    "df = pd.DataFrame()\n",
    "\n",
    "print('Loading CSVs\\n')\n",
    "for file in glob.glob('res/*.csv'):\n",
    "    # read single file, index on StationEoI and DatetimeEnd\n",
    "    read = pd.read_csv(file,\n",
    "                 encoding=\"utf-16\", parse_dates=[13, 14],\n",
    "                 infer_datetime_format=True,\n",
    "                 index_col=[4, 14])\n",
    "    # drop 'bulk' files because they have different averaging\n",
    "    bulks = read.SamplingPoint.str.lower().str.contains('bulk')\n",
    "    clean = read[~bulks].copy()\n",
    "    \n",
    "    # ignore unnecessary columns\n",
    "    clean.drop(columns=['Countrycode', 'Namespace', 'AirQualityNetwork',\n",
    "                 'AirQualityStation', 'SamplingPoint', 'Sample',\n",
    "                 'SamplingProcess', 'AirPollutantCode',\n",
    "                 'DatetimeBegin', 'Validity', 'Verification',\n",
    "                 'AveragingTime'],\n",
    "        inplace=True)\n",
    "    \n",
    "    # make pollutant a column for better memory usage\n",
    "    clean = clean.pivot(columns='AirPollutant')\n",
    "    df = pd.concat([df, clean], axis=1)\n",
    "\n",
    "# make names shorter    \n",
    "df.index.names = ['StationEoI', 'Timestamp']\n",
    "df.columns.names = [None, 'Pollutant']\n",
    "\n",
    "print('\\nFinished Loading')\n",
    "print('Sorting')\n",
    "df = df.sort_index()\n",
    "print('Finished sorting')"
   ]
  },
  {
   "cell_type": "code",
   "execution_count": 50,
   "metadata": {},
   "outputs": [],
   "source": [
    "df = pd.DataFrame()\n",
    "\n",
    "for file in glob.glob('res/*2013_timeseries.csv'):\n",
    "    # read single file, index on StationEoI and DatetimeEnd\n",
    "    read = pd.read_csv(file,\n",
    "                 encoding=\"utf-16\", parse_dates=[13, 14],\n",
    "                 infer_datetime_format=True)\n",
    "    # drop 'bulk' files because they have different averaging\n",
    "    bulks = read.SamplingPoint.str.lower().str.contains('bulk')\n",
    "    clean = read[~bulks].copy()\n",
    "    \n",
    "    # ignore unnecessary columns\n",
    "    clean.drop(columns=['Countrycode', 'Namespace', 'AirQualityNetwork',\n",
    "                 'AirQualityStation', 'SamplingPoint', 'Sample',\n",
    "                 'SamplingProcess', 'AirPollutantCode',\n",
    "                 'DatetimeBegin', 'Validity', 'Verification',\n",
    "                 'AveragingTime'],\n",
    "        inplace=True)\n",
    "    \n",
    "    df = pd.concat([df, clean], ignore_index=True)\n",
    "\n",
    "# make pollutant a column for better memory usage\n",
    "#df = df.pivot(columns='AirPollutant')\n",
    "\n",
    "# make names shorter    \n",
    "#df.index.names = ['StationEoI', 'Timestamp']\n",
    "#df.columns.names = [None, 'Pollutant']"
   ]
  },
  {
   "cell_type": "code",
   "execution_count": null,
   "metadata": {},
   "outputs": [
    {
     "data": {
      "text/plain": [
       "0         False\n1         False\n2         False\n3         False\n4         False\n5         False\n6         False\n7         False\n8         False\n9         False\n10        False\n11        False\n12        False\n13        False\n14        False\n15        False\n16        False\n17        False\n18        False\n19        False\n20        False\n21        False\n22        False\n23        False\n24        False\n25        False\n26        False\n27        False\n28        False\n29        False\n          ...  \n122670    False\n122671    False\n122672    False\n122673    False\n122674    False\n122675    False\n122676    False\n122677    False\n122678    False\n122679    False\n122680    False\n122681    False\n122682    False\n122683    False\n122684    False\n122685    False\n122686    False\n122687    False\n122688    False\n122689    False\n122690    False\n122691    False\n122692    False\n122693    False\n122694    False\n122695    False\n122696    False\n122697    False\n122698    False\n122699    False\nLength: 122700, dtype: bool"
      ]
     },
     "execution_count": 59,
     "metadata": {},
     "output_type": "execute_result"
    }
   ],
   "source": [
    "df[df.duplicated()]"
   ]
  },
  {
   "cell_type": "code",
   "execution_count": 56,
   "metadata": {},
   "outputs": [
    {
     "name": "stdout",
     "output_type": "stream",
     "text": [
      "  AirQualityStationEoICode AirPollutant  Concentration UnitOfMeasurement  \\\n0                  DESN077   As in PM10          2.284             ng/m3   \n1                  DESN077   As in PM10          1.489             ng/m3   \n2                  DESN077   As in PM10          3.764             ng/m3   \n3                  DESN077   As in PM10          0.253             ng/m3   \n4                  DESN077   As in PM10          1.836             ng/m3   \n\n          DatetimeEnd  \n0 2013-02-18 23:00:00  \n1 2013-03-26 23:00:00  \n2 2013-05-07 23:00:00  \n3 2013-11-03 23:00:00  \n4 2013-12-03 23:00:00  \n"
     ]
    }
   ],
   "source": [
    "print(df.head())"
   ]
  },
  {
   "cell_type": "code",
   "execution_count": 54,
   "metadata": {},
   "outputs": [
    {
     "data": {
      "text/plain": [
       "(122700, 5)"
      ]
     },
     "execution_count": 54,
     "metadata": {},
     "output_type": "execute_result"
    }
   ],
   "source": [
    "df.shape"
   ]
  },
  {
   "cell_type": "code",
   "execution_count": null,
   "metadata": {},
   "outputs": [],
   "source": []
  }
 ],
 "metadata": {
  "kernelspec": {
   "display_name": "Python 2",
   "language": "python",
   "name": "python2"
  },
  "language_info": {
   "codemirror_mode": {
    "name": "ipython",
    "version": 2
   },
   "file_extension": ".py",
   "mimetype": "text/x-python",
   "name": "python",
   "nbconvert_exporter": "python",
   "pygments_lexer": "ipython2",
   "version": "2.7.6"
  }
 },
 "nbformat": 4,
 "nbformat_minor": 0
}
