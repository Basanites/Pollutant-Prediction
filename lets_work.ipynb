{
 "cells": [
  {
   "cell_type": "code",
   "execution_count": null,
   "metadata": {
    "ExecuteTime": {
     "end_time": "2018-06-07T15:25:02.513214Z",
     "start_time": "2018-06-07T15:25:02.483194Z"
    },
    "init_cell": true,
    "tags": [
     "#imports"
    ]
   },
   "outputs": [],
   "source": [
    "import glob\n",
    "import math\n",
    "import os\n",
    "\n",
    "import matplotlib.pyplot as plt\n",
    "import numpy as np\n",
    "import pandas as pd\n",
    "from fbprophet import Prophet\n",
    "from sklearn import neighbors, metrics\n",
    "\n",
    "%matplotlib notebook\n",
    "\n",
    "package_dir = os.getcwd()\n",
    "\n",
    "print(package_dir)"
   ]
  },
  {
   "cell_type": "code",
   "execution_count": null,
   "metadata": {
    "ExecuteTime": {
     "end_time": "2018-06-06T16:31:19.228125Z",
     "start_time": "2018-06-06T16:28:19.784646Z"
    },
    "tags": [
     "#leipzig"
    ]
   },
   "outputs": [],
   "source": [
    "df = pd.DataFrame()\n",
    "\n",
    "print('Loading CSVs\\n')\n",
    "for file in glob.glob('res/*.csv'):\n",
    "    # read single file, index on StationEoI and DatetimeEnd\n",
    "    read = pd.read_csv(file,\n",
    "                 encoding=\"utf-16\", parse_dates=[13, 14],\n",
    "                 infer_datetime_format=True,\n",
    "                 index_col=[4, 14])\n",
    "    # drop 'bulk' files because they have different averaging\n",
    "    bulks = read.SamplingPoint.str.lower().str.contains('bulk')\n",
    "    clean = read[~bulks].copy()\n",
    "    \n",
    "    # ignore unnecessary columns\n",
    "    clean.drop(columns=['Countrycode', 'Namespace', 'AirQualityNetwork',\n",
    "                 'AirQualityStation', 'SamplingPoint', 'Sample',\n",
    "                 'SamplingProcess', 'AirPollutantCode',\n",
    "                 'DatetimeBegin', 'Validity', 'Verification',\n",
    "                 'AveragingTime'],\n",
    "        inplace=True)\n",
    "    \n",
    "    # make pollutant a column for better memory usage\n",
    "    clean = clean.pivot(columns='AirPollutant')\n",
    "    df = pd.concat([df, clean])\n",
    "\n",
    "print('\\nFinished Loading')\n",
    "print('Merging')\n",
    "\n",
    "# make names shorter    \n",
    "df.index.names = ['StationEoI', 'Timestamp']\n",
    "df.columns.names = [None, 'Pollutant']\n",
    "df = df.sort_index()\n",
    "df = df.groupby(level=[0,1]).first()\n",
    "\n",
    "\n",
    "print('Finished merging')"
   ]
  },
  {
   "cell_type": "code",
   "execution_count": null,
   "metadata": {
    "ExecuteTime": {
     "end_time": "2018-06-07T11:30:49.757508Z",
     "start_time": "2018-06-07T11:30:34.636526Z"
    },
    "init_cell": true,
    "tags": [
     "#leipzig2013"
    ]
   },
   "outputs": [],
   "source": [
    "df = pd.DataFrame()\n",
    "\n",
    "for file in glob.glob('res/*2013_timeseries.csv'):\n",
    "    # read single file, index on StationEoI and DatetimeEnd\n",
    "    read = pd.read_csv(file,\n",
    "                 encoding=\"utf-16\", parse_dates=[13, 14],\n",
    "                 infer_datetime_format=True,\n",
    "                 index_col=[4,14])\n",
    "    # drop 'bulk' files because they have different averaging\n",
    "    bulks = read.SamplingPoint.str.lower().str.contains('bulk')\n",
    "    clean = read[~bulks].copy()\n",
    "    \n",
    "    # ignore unnecessary columns\n",
    "    clean.drop(columns=['Countrycode', 'Namespace', 'AirQualityNetwork',\n",
    "                 'AirQualityStation', 'SamplingPoint', 'Sample',\n",
    "                 'SamplingProcess', 'AirPollutantCode',\n",
    "                 'DatetimeBegin', 'Validity', 'Verification',\n",
    "                 'AveragingTime'],\n",
    "        inplace=True)\n",
    "    \n",
    "    pivoted = clean.pivot(columns='AirPollutant')\n",
    "    \n",
    "    df = pd.concat([df, pivoted])\n",
    "\n",
    "# make pollutant a column for better memory usage\n",
    "#df = df.pivot(columns='AirPollutant')\n",
    "\n",
    "# make names shorter    \n",
    "df.index.names = ['StationEoI', 'Timestamp']\n",
    "df.columns.names = [None, 'Pollutant']\n",
    "\n",
    "df = df.sort_index()\n",
    "df = df.groupby(level=[0,1]).first()\n",
    "\n",
    "df = df.interpolate()"
   ]
  },
  {
   "cell_type": "code",
   "execution_count": null,
   "metadata": {
    "ExecuteTime": {
     "end_time": "2018-06-07T11:08:35.867986Z",
     "start_time": "2018-06-07T11:08:35.840994Z"
    }
   },
   "outputs": [],
   "source": [
    "df.loc['DESN025'].Concentration.count()"
   ]
  },
  {
   "cell_type": "code",
   "execution_count": null,
   "metadata": {
    "ExecuteTime": {
     "end_time": "2018-06-07T15:30:08.915870Z",
     "start_time": "2018-06-07T15:30:08.466886Z"
    },
    "tags": [
     "#lags"
    ]
   },
   "outputs": [],
   "source": [
    "lagged = pd.DataFrame()\n",
    "\n",
    "for i in range(1,24):\n",
    "    lagged['lag %sh' % i] = df.loc['DESN025'].Concentration.NO.shift(i, freq='H')\n",
    "    \n",
    "lagged = lagged.interpolate()\n",
    "\n",
    "lagged"
   ]
  },
  {
   "cell_type": "code",
   "execution_count": null,
   "metadata": {
    "ExecuteTime": {
     "end_time": "2018-06-07T15:30:09.160854Z",
     "start_time": "2018-06-07T15:30:08.921888Z"
    },
    "code_folding": [],
    "tags": [
     "#knn",
     "=>lags"
    ]
   },
   "outputs": [],
   "source": [
    "asdf = '2013-12-10'\n",
    "end = '2013-10-01'\n",
    "x_train = lagged[end:asdf].interpolate()\n",
    "y_train = df.loc['DESN025'].Concentration.NO[end:asdf]\n",
    "index_train = df.loc['DESN025'].Concentration.NO[end:asdf].index.values\n",
    "\n",
    "x_test = lagged[asdf:].iloc[:-1]\n",
    "y_test = df.loc['DESN025'].Concentration.NO[asdf:]\n",
    "index_test = df.loc['DESN025'].Concentration.NO[asdf:].index.values\n",
    "\n",
    "\n",
    "# plt.figure(figsize=(20,10))\n",
    "# #############################################################################\n",
    "# Fit regression model\n",
    "n_neighbors = 10\n",
    "\n",
    "plt.figure(figsize=(9, 4))\n",
    "plt.scatter(index_train, y_train, c='k', label='train')\n",
    "plt.scatter(index_test, y_test, c='r', label='test')\n",
    "\n",
    "colors = ['g', 'c']\n",
    "solutions = {}\n",
    "\n",
    "for i, weights in enumerate(['uniform', 'distance']):\n",
    "    knn = neighbors.KNeighborsRegressor(n_neighbors, weights=weights)\n",
    "    knn_model = knn.fit(x_train, y_train)\n",
    "    y_ = knn_model.predict(x_test)\n",
    "    solutions['knn %s' % weights] = y_\n",
    "\n",
    "    plt.plot(index_test, y_, '.-', c=colors[i], label=weights)\n",
    "    plt.axis('tight')\n",
    "    plt.legend()\n",
    "    plt.title(\"KNeighborsRegressor (k = %i)\" % (n_neighbors))\n",
    "    print('{0} mae: {1}\\tmse: {2}'.format(weights, \n",
    "                                          metrics.mean_absolute_error(y_test, y_),\n",
    "                                          metrics.mean_squared_error(y_test, y_)))"
   ]
  },
  {
   "cell_type": "code",
   "execution_count": null,
   "metadata": {},
   "outputs": [],
   "source": []
  },
  {
   "cell_type": "code",
   "execution_count": null,
   "metadata": {},
   "outputs": [],
   "source": []
  },
  {
   "cell_type": "code",
   "execution_count": null,
   "metadata": {},
   "outputs": [],
   "source": []
  }
 ],
 "metadata": {
  "celltoolbar": "Tags",
  "kernelspec": {
   "display_name": "Python 3",
   "language": "python",
   "name": "python3"
  },
  "language_info": {
   "codemirror_mode": {
    "name": "ipython",
    "version": 3
   },
   "file_extension": ".py",
   "mimetype": "text/x-python",
   "name": "python",
   "nbconvert_exporter": "python",
   "pygments_lexer": "ipython3",
   "version": "3.6.5"
  },
  "notify_time": "5",
  "varInspector": {
   "cols": {
    "lenName": 16,
    "lenType": 16,
    "lenVar": 40
   },
   "kernels_config": {
    "python": {
     "delete_cmd_postfix": "",
     "delete_cmd_prefix": "del ",
     "library": "var_list.py",
     "varRefreshCmd": "print(var_dic_list())"
    },
    "r": {
     "delete_cmd_postfix": ") ",
     "delete_cmd_prefix": "rm(",
     "library": "var_list.r",
     "varRefreshCmd": "cat(var_dic_list()) "
    }
   },
   "position": {
    "height": "309px",
    "left": "1057.77px",
    "right": "20px",
    "top": "129px",
    "width": "350px"
   },
   "types_to_exclude": [
    "module",
    "function",
    "builtin_function_or_method",
    "instance",
    "_Feature"
   ],
   "window_display": false
  }
 },
 "nbformat": 4,
 "nbformat_minor": 1
}
