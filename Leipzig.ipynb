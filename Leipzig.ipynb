{
 "cells": [
  {
   "cell_type": "markdown",
   "metadata": {},
   "source": [
    "##Importing all csv files using a MultiIndex structure\n",
    "\n",
    "Samplingpoint -> Pollutant -> StartTime\n",
    "\n",
    "Rows containing Bulk in the Samplingpoint name are dropped, because they are only monthly"
   ]
  },
  {
   "cell_type": "code",
   "execution_count": null,
   "metadata": {},
   "outputs": [],
   "source": [
    "import pandas as pd\n",
    "import matplotlib.pyplot as plt\n",
    "import numpy as np\n",
    "from fbprophet import Prophet\n",
    "import math\n",
    "import os\n",
    "import glob\n",
    "%matplotlib inline\n",
    "\n",
    "package_dir = os.getcwd()\n",
    "\n",
    "print(package_dir)\n",
    "\n",
    "df = pd.DataFrame()\n",
    "\n",
    "print('Loading CSVs\\n')\n",
    "for file in glob.glob('res/*.csv'):\n",
    "    read = pd.read_csv(file,\n",
    "                 encoding=\"utf-16\", parse_dates=[13, 14],\n",
    "                 infer_datetime_format=True,\n",
    "                 index_col=[4, 8, 13])\n",
    "    df = pd.concat([df, read])\n",
    "print('\\nFinished Loading')\n",
    "print('Sorting')\n",
    "df = df.sort_index()\n",
    "print('Finished sorting')"
   ]
  },
  {
   "cell_type": "code",
   "execution_count": null,
   "metadata": {},
   "outputs": [],
   "source": [
    "print(df.dtypes)\n",
    "print(df.head())"
   ]
  },
  {
   "cell_type": "markdown",
   "metadata": {},
   "source": [
    "Multiindex can be navigated using the loc method.\n",
    "\n",
    "Row selection is done via the [] operator using counting slices or datetime parsed from strings"
   ]
  },
  {
   "cell_type": "code",
   "execution_count": null,
   "metadata": {},
   "outputs": [],
   "source": [
    "df.loc['DESN025', 'C6H6']['2014-01':'2014-02'].plot(y='Concentration', figsize=(14,8))"
   ]
  },
  {
   "cell_type": "code",
   "execution_count": null,
   "metadata": {},
   "outputs": [],
   "source": [
    "for eoi, new_df in df.groupby(level=0):\n",
    "    print(new_df.groupby(['AirPollutant']).count()['AirPollutantCode'], '\\n')"
   ]
  },
  {
   "cell_type": "code",
   "execution_count": null,
   "metadata": {},
   "outputs": [],
   "source": [
    "ds = pd.to_datetime(df.loc['DESN025', 'PM10'].index.values)\n",
    "y = df.loc['DESN025', 'PM10', :]['Concentration'].values\n",
    "\n",
    "print(ds)\n",
    "print(y, '\\n')\n",
    "\n",
    "df2 = pd.DataFrame(data={'ds':ds, 'y':y})\n",
    "\n",
    "print(df2.head())\n",
    "print(df2.dtypes)\n",
    "\n",
    "#print(df.loc['DESN025'].groupby(['AirPollutant']).count()['AirPollutantCode'])"
   ]
  },
  {
   "cell_type": "code",
   "execution_count": null,
   "metadata": {},
   "outputs": [],
   "source": [
    "df2.plot(x='ds', y='y')\n",
    "print(df2.count())"
   ]
  },
  {
   "cell_type": "code",
   "execution_count": null,
   "metadata": {},
   "outputs": [],
   "source": [
    "np.seterr(divide='ignore')\n",
    "df2['y'] = pd.DataFrame(np.log(df2['y'])).replace([np.inf, -np.inf], 0)\n",
    "np.seterr(divide='warn')"
   ]
  },
  {
   "cell_type": "code",
   "execution_count": null,
   "metadata": {},
   "outputs": [],
   "source": [
    "df2.plot(x='ds', y='y')"
   ]
  },
  {
   "cell_type": "code",
   "execution_count": null,
   "metadata": {},
   "outputs": [],
   "source": [
    "df2_train = df2[:40000]\n",
    "df2_test = df2[40000:40240]"
   ]
  },
  {
   "cell_type": "code",
   "execution_count": null,
   "metadata": {},
   "outputs": [],
   "source": [
    "model = Prophet()"
   ]
  },
  {
   "cell_type": "code",
   "execution_count": null,
   "metadata": {},
   "outputs": [],
   "source": [
    "model.fit(df2_train)\n",
    "future = model.make_future_dataframe(periods=240, freq='H')"
   ]
  },
  {
   "cell_type": "code",
   "execution_count": null,
   "metadata": {},
   "outputs": [],
   "source": [
    "forecast = model.predict(future)\n",
    "forecast[['ds', 'yhat', 'yhat_lower', 'yhat_upper']].tail()\n",
    "\n"
   ]
  },
  {
   "cell_type": "code",
   "execution_count": null,
   "metadata": {},
   "outputs": [],
   "source": [
    "model.plot(forecast)\n"
   ]
  },
  {
   "cell_type": "code",
   "execution_count": null,
   "metadata": {},
   "outputs": [],
   "source": [
    "model.plot_components(forecast)"
   ]
  },
  {
   "cell_type": "code",
   "execution_count": null,
   "metadata": {},
   "outputs": [],
   "source": [
    "# retransform using e\n",
    "y_hat = np.exp(forecast['yhat'][20000:])\n",
    "y_true = np.exp(df2_test['y'])\n",
    " \n",
    "# compute the mean square error\n",
    "mse = ((y_hat - y_true) ** 2).mean()\n",
    "print('Prediction quality: {:.2f} MSE ({:.2f} RMSE)'.format(mse, math.sqrt(mse)))"
   ]
  },
  {
   "cell_type": "code",
   "execution_count": null,
   "metadata": {},
   "outputs": [],
   "source": [
    "print(y_hat)"
   ]
  },
  {
   "cell_type": "code",
   "execution_count": null,
   "metadata": {},
   "outputs": [],
   "source": [
    "df_agg = df.loc['DESN025', 'PM10'].groupby(df.loc['DESN025', 'PM10'].index).count()\n",
    "g = df_agg.groupby('Namespace')\n",
    "#df_agg = df_agg.reindex('Namespace')\n",
    "\n",
    "\n",
    "\n",
    "print(g.groups)"
   ]
  },
  {
   "cell_type": "code",
   "execution_count": null,
   "metadata": {},
   "outputs": [],
   "source": []
  }
 ],
 "metadata": {
  "kernelspec": {
   "display_name": "Python 3",
   "language": "python",
   "name": "python3"
  },
  "language_info": {
   "codemirror_mode": {
    "name": "ipython",
    "version": 3
   },
   "file_extension": ".py",
   "mimetype": "text/x-python",
   "name": "python",
   "nbconvert_exporter": "python",
   "pygments_lexer": "ipython3",
   "version": "3.6.5"
  },
  "varInspector": {
   "cols": {
    "lenName": 16,
    "lenType": 16,
    "lenVar": 40
   },
   "kernels_config": {
    "python": {
     "delete_cmd_postfix": "",
     "delete_cmd_prefix": "del ",
     "library": "var_list.py",
     "varRefreshCmd": "print(var_dic_list())"
    },
    "r": {
     "delete_cmd_postfix": ") ",
     "delete_cmd_prefix": "rm(",
     "library": "var_list.r",
     "varRefreshCmd": "cat(var_dic_list()) "
    }
   },
   "types_to_exclude": [
    "module",
    "function",
    "builtin_function_or_method",
    "instance",
    "_Feature"
   ],
   "window_display": false
  }
 },
 "nbformat": 4,
 "nbformat_minor": 1
}
