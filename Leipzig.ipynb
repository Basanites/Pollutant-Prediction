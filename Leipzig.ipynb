{
 "cells": [
  {
   "cell_type": "markdown",
   "metadata": {},
   "source": [
    "##Importing all csv files using a MultiIndex structure\n",
    "\n",
    "Samplingpoint -> Pollutant -> StartTime\n",
    "\n",
    "Rows containing Bulk in the Samplingpoint name are dropped, because they are only monthly"
   ]
  },
  {
   "cell_type": "code",
   "execution_count": 1,
   "metadata": {
    "collapsed": false
   },
   "outputs": [
    {
     "name": "stdout",
     "output_type": "stream",
     "text": [
      "/home/sebastian/Programming/Bachelorthesis\nLoading CSVs\n\n"
     ]
    },
    {
     "name": "stdout",
     "output_type": "stream",
     "text": [
      "\nFinished Loading\nSorting\n"
     ]
    },
    {
     "name": "stdout",
     "output_type": "stream",
     "text": [
      "Finished sorting\n"
     ]
    }
   ],
   "source": [
    "import pandas as pd\n",
    "import matplotlib.pyplot as plt\n",
    "import os\n",
    "import glob\n",
    "%matplotlib inline\n",
    "\n",
    "package_dir = os.getcwd()\n",
    "\n",
    "print(package_dir)\n",
    "\n",
    "df = pd.DataFrame()\n",
    "\n",
    "print('Loading CSVs\\n')\n",
    "for file in glob.glob('res/*.csv'):\n",
    "    read = pd.read_csv(file,\n",
    "                 encoding=\"utf-16\", parse_dates=[13, 14],\n",
    "                 infer_datetime_format=True,\n",
    "                 index_col=[5, 8, 13])\n",
    "    df = pd.concat([df, read[~read.index.get_level_values(0).str.contains('Bulk')]])\n",
    "print('\\nFinished Loading')\n",
    "print('Sorting')\n",
    "df = df.sort_index()\n",
    "print('Finished sorting')"
   ]
  },
  {
   "cell_type": "code",
   "execution_count": 12,
   "metadata": {},
   "outputs": [
    {
     "name": "stdout",
     "output_type": "stream",
     "text": [
      "Countrycode                         object\nNamespace                           object\nAirQualityNetwork                   object\nAirQualityStation                   object\nAirQualityStationEoICode            object\nSamplingProcess                     object\nSample                              object\nAirPollutantCode                    object\nAveragingTime                       object\nConcentration                      float64\nUnitOfMeasurement                   object\nDatetimeEnd                 datetime64[ns]\nValidity                             int64\nVerification                         int64\ndtype: object\n                                                               Countrycode  \\\nSamplingPoint                 AirPollutant DatetimeBegin                     \nSPO.DE_DESN025_CHB_dataGroup1 C6H6         2012-12-31 23:00:00          DE   \n                                           2013-01-01 00:00:00          DE   \n                                           2013-01-01 01:00:00          DE   \n                                           2013-01-01 02:00:00          DE   \n                                           2013-01-01 03:00:00          DE   \n\n                                                                                                        Namespace  \\\nSamplingPoint                 AirPollutant DatetimeBegin                                                            \nSPO.DE_DESN025_CHB_dataGroup1 C6H6         2012-12-31 23:00:00  http://gdi.uba.de/arcgis/rest/services/inspire...   \n                                           2013-01-01 00:00:00  http://gdi.uba.de/arcgis/rest/services/inspire...   \n                                           2013-01-01 01:00:00  http://gdi.uba.de/arcgis/rest/services/inspire...   \n                                           2013-01-01 02:00:00  http://gdi.uba.de/arcgis/rest/services/inspire...   \n                                           2013-01-01 03:00:00  http://gdi.uba.de/arcgis/rest/services/inspire...   \n\n                                                               AirQualityNetwork  \\\nSamplingPoint                 AirPollutant DatetimeBegin                           \nSPO.DE_DESN025_CHB_dataGroup1 C6H6         2012-12-31 23:00:00         NET.DE_SN   \n                                           2013-01-01 00:00:00         NET.DE_SN   \n                                           2013-01-01 01:00:00         NET.DE_SN   \n                                           2013-01-01 02:00:00         NET.DE_SN   \n                                           2013-01-01 03:00:00         NET.DE_SN   \n\n                                                               AirQualityStation  \\\nSamplingPoint                 AirPollutant DatetimeBegin                           \nSPO.DE_DESN025_CHB_dataGroup1 C6H6         2012-12-31 23:00:00    STA.DE_DESN025   \n                                           2013-01-01 00:00:00    STA.DE_DESN025   \n                                           2013-01-01 01:00:00    STA.DE_DESN025   \n                                           2013-01-01 02:00:00    STA.DE_DESN025   \n                                           2013-01-01 03:00:00    STA.DE_DESN025   \n\n                                                               AirQualityStationEoICode  \\\nSamplingPoint                 AirPollutant DatetimeBegin                                  \nSPO.DE_DESN025_CHB_dataGroup1 C6H6         2012-12-31 23:00:00                  DESN025   \n                                           2013-01-01 00:00:00                  DESN025   \n                                           2013-01-01 01:00:00                  DESN025   \n                                           2013-01-01 02:00:00                  DESN025   \n                                           2013-01-01 03:00:00                  DESN025   \n\n                                                                                                  SamplingProcess  \\\nSamplingPoint                 AirPollutant DatetimeBegin                                                            \nSPO.DE_DESN025_CHB_dataGroup1 C6H6         2012-12-31 23:00:00  SPP.DE_DESN025_CHB_automatic_other_Duration-1hour   \n                                           2013-01-01 00:00:00  SPP.DE_DESN025_CHB_automatic_other_Duration-1hour   \n                                           2013-01-01 01:00:00  SPP.DE_DESN025_CHB_automatic_other_Duration-1hour   \n                                           2013-01-01 02:00:00  SPP.DE_DESN025_CHB_automatic_other_Duration-1hour   \n                                           2013-01-01 03:00:00  SPP.DE_DESN025_CHB_automatic_other_Duration-1hour   \n\n                                                                          Sample  \\\nSamplingPoint                 AirPollutant DatetimeBegin                           \nSPO.DE_DESN025_CHB_dataGroup1 C6H6         2012-12-31 23:00:00  SAM.DE_DESN025_1   \n                                           2013-01-01 00:00:00  SAM.DE_DESN025_1   \n                                           2013-01-01 01:00:00  SAM.DE_DESN025_1   \n                                           2013-01-01 02:00:00  SAM.DE_DESN025_1   \n                                           2013-01-01 03:00:00  SAM.DE_DESN025_1   \n\n                                                                                                 AirPollutantCode  \\\nSamplingPoint                 AirPollutant DatetimeBegin                                                            \nSPO.DE_DESN025_CHB_dataGroup1 C6H6         2012-12-31 23:00:00  http://dd.eionet.europa.eu/vocabulary/aq/pollu...   \n                                           2013-01-01 00:00:00  http://dd.eionet.europa.eu/vocabulary/aq/pollu...   \n                                           2013-01-01 01:00:00  http://dd.eionet.europa.eu/vocabulary/aq/pollu...   \n                                           2013-01-01 02:00:00  http://dd.eionet.europa.eu/vocabulary/aq/pollu...   \n                                           2013-01-01 03:00:00  http://dd.eionet.europa.eu/vocabulary/aq/pollu...   \n\n                                                               AveragingTime  \\\nSamplingPoint                 AirPollutant DatetimeBegin                       \nSPO.DE_DESN025_CHB_dataGroup1 C6H6         2012-12-31 23:00:00          hour   \n                                           2013-01-01 00:00:00          hour   \n                                           2013-01-01 01:00:00          hour   \n                                           2013-01-01 02:00:00          hour   \n                                           2013-01-01 03:00:00          hour   \n\n                                                                Concentration  \\\nSamplingPoint                 AirPollutant DatetimeBegin                        \nSPO.DE_DESN025_CHB_dataGroup1 C6H6         2012-12-31 23:00:00          1.959   \n                                           2013-01-01 00:00:00          2.279   \n                                           2013-01-01 01:00:00          1.322   \n                                           2013-01-01 02:00:00          1.275   \n                                           2013-01-01 03:00:00          1.384   \n\n                                                               UnitOfMeasurement  \\\nSamplingPoint                 AirPollutant DatetimeBegin                           \nSPO.DE_DESN025_CHB_dataGroup1 C6H6         2012-12-31 23:00:00             µg/m3   \n                                           2013-01-01 00:00:00             µg/m3   \n                                           2013-01-01 01:00:00             µg/m3   \n                                           2013-01-01 02:00:00             µg/m3   \n                                           2013-01-01 03:00:00             µg/m3   \n\n                                                                       DatetimeEnd  \\\nSamplingPoint                 AirPollutant DatetimeBegin                             \nSPO.DE_DESN025_CHB_dataGroup1 C6H6         2012-12-31 23:00:00 2013-01-01 00:00:00   \n                                           2013-01-01 00:00:00 2013-01-01 01:00:00   \n                                           2013-01-01 01:00:00 2013-01-01 02:00:00   \n                                           2013-01-01 02:00:00 2013-01-01 03:00:00   \n                                           2013-01-01 03:00:00 2013-01-01 04:00:00   \n\n                                                                Validity  \\\nSamplingPoint                 AirPollutant DatetimeBegin                   \nSPO.DE_DESN025_CHB_dataGroup1 C6H6         2012-12-31 23:00:00         1   \n                                           2013-01-01 00:00:00         1   \n                                           2013-01-01 01:00:00         1   \n                                           2013-01-01 02:00:00         1   \n                                           2013-01-01 03:00:00         1   \n\n                                                                Verification  \nSamplingPoint                 AirPollutant DatetimeBegin                      \nSPO.DE_DESN025_CHB_dataGroup1 C6H6         2012-12-31 23:00:00             1  \n                                           2013-01-01 00:00:00             1  \n                                           2013-01-01 01:00:00             1  \n                                           2013-01-01 02:00:00             1  \n                                           2013-01-01 03:00:00             1  \n"
     ]
    }
   ],
   "source": [
    "print(df.dtypes)\n",
    "print(df.head())"
   ]
  },
  {
   "cell_type": "markdown",
   "metadata": {},
   "source": [
    "Multiindex can be navigated using the loc method"
   ]
  },
  {
   "cell_type": "code",
   "execution_count": 7,
   "metadata": {},
   "outputs": [
    {
     "data": {
      "text/plain": [
       "<matplotlib.axes._subplots.AxesSubplot at 0x7ff083e9ea20>"
      ]
     },
     "execution_count": 7,
     "metadata": {},
     "output_type": "execute_result"
    },
    {
     "data": {
      "image/png": "[encoded data removed]",
      "text/plain": [
       "<Figure size 432x288 with 1 Axes>"
      ]
     },
     "metadata": {},
     "output_type": "display_data"
    }
   ],
   "source": [
    "df.loc['SPO.DE_DESN025_CHB_dataGroup1', 'C6H6'].plot(y='Concentration')"
   ]
  },
  {
   "cell_type": "code",
   "execution_count": 1,
   "metadata": {},
   "outputs": [],
   "source": [
    ""
   ]
  },
  {
   "cell_type": "code",
   "execution_count": null,
   "metadata": {},
   "outputs": [],
   "source": []
  }
 ],
 "metadata": {
  "kernelspec": {
   "display_name": "Python 2",
   "language": "python",
   "name": "python2"
  },
  "language_info": {
   "codemirror_mode": {
    "name": "ipython",
    "version": 2
   },
   "file_extension": ".py",
   "mimetype": "text/x-python",
   "name": "python",
   "nbconvert_exporter": "python",
   "pygments_lexer": "ipython2",
   "version": "2.7.6"
  }
 },
 "nbformat": 4,
 "nbformat_minor": 0
}
